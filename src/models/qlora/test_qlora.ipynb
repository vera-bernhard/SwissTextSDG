{
 "cells": [
  {
   "cell_type": "markdown",
   "metadata": {},
   "source": [
    "# Test Qlora\n",
    "\n",
    "based on [Medium Article](https://medium.com/p/13a7d3a256f6)"
   ]
  },
  {
   "cell_type": "code",
   "execution_count": null,
   "metadata": {},
   "outputs": [],
   "source": [
    "# Set those token to clone repo and access huggingface\n",
    "GIT_TOKEN = ''\n",
    "HUGGINGFACE_TOKEN = ''\n",
    "\n",
    "repo = 'SwissTextSDG'\n",
    "!rm -r SwissTextSDG/\n",
    "!git clone https://{GIT_TOKEN}@github.com/vera-bernhard/{repo}\n"
   ]
  },
  {
   "cell_type": "code",
   "execution_count": null,
   "metadata": {},
   "outputs": [],
   "source": [
    "%cd /content/SwissTextSDG/\n",
    "!git checkout qlora"
   ]
  },
  {
   "cell_type": "code",
   "execution_count": null,
   "metadata": {},
   "outputs": [],
   "source": [
    "!pip install transformers\n",
    "!pip install accelerate\n",
    "!pip install peft\n",
    "!pip install datasets\n",
    "!pip install bitsandbytes\n",
    "!pip install swifter\n",
    "!pip install pytorch_transformers\n",
    "!pip install huggingface_hub\n",
    "\n",
    "from huggingface_hub import login\n",
    "login(token=HUGGINGFACE_TOKEN)"
   ]
  },
  {
   "cell_type": "code",
   "execution_count": 24,
   "metadata": {},
   "outputs": [],
   "source": [
    "import torch\n",
    "from transformers import (AutoTokenizer,\n",
    "                          MistralForSequenceClassification, \n",
    "                          BitsAndBytesConfig, \n",
    "                          Trainer, \n",
    "                          TrainingArguments)\n",
    "from datasets import load_dataset\n",
    "from peft import (LoraConfig, \n",
    "                  PeftConfig, \n",
    "                  PeftModel, \n",
    "                  get_peft_model,\n",
    "                  prepare_model_for_kbit_training)\n",
    "from sklearn.metrics import f1_score"
   ]
  },
  {
   "cell_type": "code",
   "execution_count": 25,
   "metadata": {},
   "outputs": [],
   "source": [
    "model_checkpoint = 'mistralai/Mistral-7B-v0.1'"
   ]
  },
  {
   "cell_type": "code",
   "execution_count": 26,
   "metadata": {},
   "outputs": [],
   "source": [
    "bnb_config = BitsAndBytesConfig(\n",
    "    load_in_4bit= True,\n",
    "    bnb_4bit_quant_type= 'nf4',\n",
    "    bnb_4bit_compute_dtype= torch.bfloat16,\n",
    "    bnb_4bit_use_double_quant= True,\n",
    ")"
   ]
  },
  {
   "cell_type": "code",
   "execution_count": null,
   "metadata": {},
   "outputs": [],
   "source": [
    "model = MistralForSequenceClassification.from_pretrained(\n",
    "        model_checkpoint,\n",
    "        num_labels=18,\n",
    "        quantization_config=bnb_config,\n",
    "        device_map='auto',\n",
    ")"
   ]
  },
  {
   "cell_type": "code",
   "execution_count": null,
   "metadata": {},
   "outputs": [],
   "source": [
    "model = prepare_model_for_kbit_training(model)\n",
    "peft_config = LoraConfig(\n",
    "    lora_alpha=16,\n",
    "    lora_dropout=0.1,\n",
    "    r=2,\n",
    "    bias='none',\n",
    "    task_type='SEQ_CLS',\n",
    "    target_modules=['q_proj', 'v_proj']\n",
    ")\n",
    "model = get_peft_model(model, peft_config)"
   ]
  },
  {
   "cell_type": "code",
   "execution_count": null,
   "metadata": {},
   "outputs": [],
   "source": [
    "tokenizer = AutoTokenizer.from_pretrained(model_checkpoint)\n",
    "tokenizer.pad_token = tokenizer.eos_token\n",
    "tokenizer.add_eos_token = True\n",
    "tokenizer.add_bos_token, tokenizer.add_eos_token"
   ]
  },
  {
   "cell_type": "code",
   "execution_count": 1,
   "metadata": {},
   "outputs": [
    {
     "name": "stdout",
     "output_type": "stream",
     "text": [
      "/home/vera/Documents/Uni/Master/FS24/ML4NLP2/Project/SwissTextSDG\n"
     ]
    }
   ],
   "source": [
    "%cd /content/SwissTextSDG"
   ]
  },
  {
   "cell_type": "code",
   "execution_count": null,
   "metadata": {},
   "outputs": [],
   "source": [
    "import sys\n",
    "import os\n",
    "\n",
    "from src.data.dataset import TrainSwissTextDataset\n",
    "     \n",
    "\n",
    "dataset = TrainSwissTextDataset.create_instance(dataset='swisstext_task1_train', model_name='mbert', use_val=False, train_frac=0.33)\n",
    "train_df, test_df, val_df = dataset.get_data_loaders()"
   ]
  },
  {
   "cell_type": "code",
   "execution_count": 7,
   "metadata": {},
   "outputs": [],
   "source": [
    "def compute_metrics(pred):\n",
    "    labels = pred.label_ids\n",
    "    preds = pred.predictions.argmax(-1)\n",
    "    f1_result = f1_score(labels, preds, average='weighted')\n",
    "    return {'f1_score': f1_result}"
   ]
  },
  {
   "cell_type": "code",
   "execution_count": null,
   "metadata": {},
   "outputs": [],
   "source": [
    "training_args = TrainingArguments(\n",
    "    output_dir='./checkpoints',\n",
    "    learning_rate=5e-5,\n",
    "    per_device_train_batch_size=1,\n",
    "    num_train_epochs=1,\n",
    "    weight_decay=0.01\n",
    ")"
   ]
  },
  {
   "cell_type": "code",
   "execution_count": null,
   "metadata": {},
   "outputs": [],
   "source": [
    "trainer = Trainer(\n",
    "    model=model,\n",
    "    args=training_args,\n",
    "    train_dataset=train_df,\n",
    "    tokenizer=tokenizer,\n",
    "    compute_metrics=compute_metrics,\n",
    ")\n",
    "trainer.train()"
   ]
  }
 ],
 "metadata": {
  "kernelspec": {
   "display_name": "Python 3",
   "language": "python",
   "name": "python3"
  },
  "language_info": {
   "codemirror_mode": {
    "name": "ipython",
    "version": 3
   },
   "file_extension": ".py",
   "mimetype": "text/x-python",
   "name": "python",
   "nbconvert_exporter": "python",
   "pygments_lexer": "ipython3",
   "version": "3.10.12"
  }
 },
 "nbformat": 4,
 "nbformat_minor": 2
}
