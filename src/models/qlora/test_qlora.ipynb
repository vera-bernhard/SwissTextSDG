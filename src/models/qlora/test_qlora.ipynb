{
 "cells": [
  {
   "cell_type": "markdown",
   "metadata": {},
   "source": [
    "# Test Qlora\n",
    "\n",
    "based on [Medium Article](https://medium.com/p/13a7d3a256f6)"
   ]
  },
  {
   "cell_type": "code",
   "execution_count": 1,
   "metadata": {},
   "outputs": [
    {
     "name": "stdout",
     "output_type": "stream",
     "text": [
      "rm: cannot remove 'SwissTextSDG/': No such file or directory\n",
      "Cloning into 'SwissTextSDG'...\n",
      "warning: redirecting to https://github.com/vera-bernhard/SwissTextSDG/\n",
      "remote: Enumerating objects: 1158, done.\u001b[K\n",
      "remote: Counting objects: 100% (396/396), done.\u001b[K\n",
      "remote: Compressing objects: 100% (258/258), done.\u001b[K\n",
      "^Cceiving objects:   8% (93/1158), 90.29 MiB | 22.03 MiB/s\n"
     ]
    }
   ],
   "source": [
    "# Set those token to clone repo and access huggingface\n",
    "GIT_TOKEN = ''\n",
    "HUGGINGFACE_TOKEN = ''\n",
    "\n",
    "repo = 'SwissTextSDG'\n",
    "!rm -r SwissTextSDG/\n",
    "!git clone https://{GIT_TOKEN}@github.com/vera-bernhard/{repo}\n"
   ]
  },
  {
   "cell_type": "code",
   "execution_count": 1,
   "metadata": {},
   "outputs": [
    {
     "name": "stdout",
     "output_type": "stream",
     "text": [
      "[Errno 2] No such file or directory: '/content/SwissTextSDG/'\n",
      "/mnt/home/veralarabernhard/SwissTextSDG/src/models/qlora\n",
      "M\tsrc/data/dataset.py\n",
      "M\tsrc/models/qlora/test_qlora.ipynb\n",
      "Already on 'qlora'\n",
      "Your branch is up to date with 'origin/qlora'.\n"
     ]
    }
   ],
   "source": [
    "%cd /content/SwissTextSDG/\n",
    "!git checkout qlora"
   ]
  },
  {
   "cell_type": "code",
   "execution_count": 1,
   "metadata": {},
   "outputs": [
    {
     "name": "stdout",
     "output_type": "stream",
     "text": [
      "Requirement already satisfied: transformers in /mnt/home/veralarabernhard/SwissTextSDG/sdg_env/lib/python3.8/site-packages (4.40.1)\n",
      "Requirement already satisfied: numpy>=1.17 in /mnt/home/veralarabernhard/SwissTextSDG/sdg_env/lib/python3.8/site-packages (from transformers) (1.24.4)\n",
      "Requirement already satisfied: tqdm>=4.27 in /mnt/home/veralarabernhard/SwissTextSDG/sdg_env/lib/python3.8/site-packages (from transformers) (4.66.2)\n",
      "Requirement already satisfied: regex!=2019.12.17 in /mnt/home/veralarabernhard/SwissTextSDG/sdg_env/lib/python3.8/site-packages (from transformers) (2024.4.16)\n",
      "Requirement already satisfied: filelock in /mnt/home/veralarabernhard/SwissTextSDG/sdg_env/lib/python3.8/site-packages (from transformers) (3.13.4)\n",
      "Requirement already satisfied: requests in /mnt/home/veralarabernhard/SwissTextSDG/sdg_env/lib/python3.8/site-packages (from transformers) (2.31.0)\n",
      "Requirement already satisfied: pyyaml>=5.1 in /mnt/home/veralarabernhard/SwissTextSDG/sdg_env/lib/python3.8/site-packages (from transformers) (6.0.1)\n",
      "Requirement already satisfied: tokenizers<0.20,>=0.19 in /mnt/home/veralarabernhard/SwissTextSDG/sdg_env/lib/python3.8/site-packages (from transformers) (0.19.1)\n",
      "Requirement already satisfied: safetensors>=0.4.1 in /mnt/home/veralarabernhard/SwissTextSDG/sdg_env/lib/python3.8/site-packages (from transformers) (0.4.3)\n",
      "Requirement already satisfied: huggingface-hub<1.0,>=0.19.3 in /mnt/home/veralarabernhard/SwissTextSDG/sdg_env/lib/python3.8/site-packages (from transformers) (0.22.2)\n",
      "Requirement already satisfied: packaging>=20.0 in /mnt/home/veralarabernhard/SwissTextSDG/sdg_env/lib/python3.8/site-packages (from transformers) (24.0)\n",
      "Requirement already satisfied: certifi>=2017.4.17 in /mnt/home/veralarabernhard/SwissTextSDG/sdg_env/lib/python3.8/site-packages (from requests->transformers) (2024.2.2)\n",
      "Requirement already satisfied: urllib3<3,>=1.21.1 in /mnt/home/veralarabernhard/SwissTextSDG/sdg_env/lib/python3.8/site-packages (from requests->transformers) (2.2.1)\n",
      "Requirement already satisfied: charset-normalizer<4,>=2 in /mnt/home/veralarabernhard/SwissTextSDG/sdg_env/lib/python3.8/site-packages (from requests->transformers) (3.3.2)\n",
      "Requirement already satisfied: idna<4,>=2.5 in /mnt/home/veralarabernhard/SwissTextSDG/sdg_env/lib/python3.8/site-packages (from requests->transformers) (3.7)\n",
      "Requirement already satisfied: fsspec>=2023.5.0 in /mnt/home/veralarabernhard/SwissTextSDG/sdg_env/lib/python3.8/site-packages (from huggingface-hub<1.0,>=0.19.3->transformers) (2024.3.1)\n",
      "Requirement already satisfied: typing-extensions>=3.7.4.3 in /mnt/home/veralarabernhard/SwissTextSDG/sdg_env/lib/python3.8/site-packages (from huggingface-hub<1.0,>=0.19.3->transformers) (4.11.0)\n",
      "Requirement already satisfied: accelerate in /mnt/home/veralarabernhard/SwissTextSDG/sdg_env/lib/python3.8/site-packages (0.29.3)\n",
      "Requirement already satisfied: safetensors>=0.3.1 in /mnt/home/veralarabernhard/SwissTextSDG/sdg_env/lib/python3.8/site-packages (from accelerate) (0.4.3)\n",
      "Requirement already satisfied: packaging>=20.0 in /mnt/home/veralarabernhard/SwissTextSDG/sdg_env/lib/python3.8/site-packages (from accelerate) (24.0)\n",
      "Requirement already satisfied: numpy>=1.17 in /mnt/home/veralarabernhard/SwissTextSDG/sdg_env/lib/python3.8/site-packages (from accelerate) (1.24.4)\n",
      "Requirement already satisfied: pyyaml in /mnt/home/veralarabernhard/SwissTextSDG/sdg_env/lib/python3.8/site-packages (from accelerate) (6.0.1)\n",
      "Requirement already satisfied: torch>=1.10.0 in /mnt/home/veralarabernhard/SwissTextSDG/sdg_env/lib/python3.8/site-packages (from accelerate) (2.3.0)\n",
      "Requirement already satisfied: psutil in /mnt/home/veralarabernhard/SwissTextSDG/sdg_env/lib/python3.8/site-packages (from accelerate) (5.9.8)\n",
      "Requirement already satisfied: huggingface-hub in /mnt/home/veralarabernhard/SwissTextSDG/sdg_env/lib/python3.8/site-packages (from accelerate) (0.22.2)\n",
      "Requirement already satisfied: fsspec in /mnt/home/veralarabernhard/SwissTextSDG/sdg_env/lib/python3.8/site-packages (from torch>=1.10.0->accelerate) (2024.3.1)\n",
      "Requirement already satisfied: typing-extensions>=4.8.0 in /mnt/home/veralarabernhard/SwissTextSDG/sdg_env/lib/python3.8/site-packages (from torch>=1.10.0->accelerate) (4.11.0)\n",
      "Requirement already satisfied: nvidia-cuda-cupti-cu12==12.1.105; platform_system == \"Linux\" and platform_machine == \"x86_64\" in /mnt/home/veralarabernhard/SwissTextSDG/sdg_env/lib/python3.8/site-packages (from torch>=1.10.0->accelerate) (12.1.105)\n",
      "Requirement already satisfied: sympy in /mnt/home/veralarabernhard/SwissTextSDG/sdg_env/lib/python3.8/site-packages (from torch>=1.10.0->accelerate) (1.12)\n",
      "Requirement already satisfied: nvidia-cusparse-cu12==12.1.0.106; platform_system == \"Linux\" and platform_machine == \"x86_64\" in /mnt/home/veralarabernhard/SwissTextSDG/sdg_env/lib/python3.8/site-packages (from torch>=1.10.0->accelerate) (12.1.0.106)\n",
      "Requirement already satisfied: nvidia-curand-cu12==10.3.2.106; platform_system == \"Linux\" and platform_machine == \"x86_64\" in /mnt/home/veralarabernhard/SwissTextSDG/sdg_env/lib/python3.8/site-packages (from torch>=1.10.0->accelerate) (10.3.2.106)\n",
      "Requirement already satisfied: networkx in /mnt/home/veralarabernhard/SwissTextSDG/sdg_env/lib/python3.8/site-packages (from torch>=1.10.0->accelerate) (3.1)\n",
      "Requirement already satisfied: jinja2 in /mnt/home/veralarabernhard/SwissTextSDG/sdg_env/lib/python3.8/site-packages (from torch>=1.10.0->accelerate) (3.1.3)\n",
      "Requirement already satisfied: nvidia-cuda-nvrtc-cu12==12.1.105; platform_system == \"Linux\" and platform_machine == \"x86_64\" in /mnt/home/veralarabernhard/SwissTextSDG/sdg_env/lib/python3.8/site-packages (from torch>=1.10.0->accelerate) (12.1.105)\n",
      "Requirement already satisfied: nvidia-cusolver-cu12==11.4.5.107; platform_system == \"Linux\" and platform_machine == \"x86_64\" in /mnt/home/veralarabernhard/SwissTextSDG/sdg_env/lib/python3.8/site-packages (from torch>=1.10.0->accelerate) (11.4.5.107)\n",
      "Requirement already satisfied: nvidia-cufft-cu12==11.0.2.54; platform_system == \"Linux\" and platform_machine == \"x86_64\" in /mnt/home/veralarabernhard/SwissTextSDG/sdg_env/lib/python3.8/site-packages (from torch>=1.10.0->accelerate) (11.0.2.54)\n",
      "Requirement already satisfied: nvidia-cublas-cu12==12.1.3.1; platform_system == \"Linux\" and platform_machine == \"x86_64\" in /mnt/home/veralarabernhard/SwissTextSDG/sdg_env/lib/python3.8/site-packages (from torch>=1.10.0->accelerate) (12.1.3.1)\n",
      "Requirement already satisfied: nvidia-nccl-cu12==2.20.5; platform_system == \"Linux\" and platform_machine == \"x86_64\" in /mnt/home/veralarabernhard/SwissTextSDG/sdg_env/lib/python3.8/site-packages (from torch>=1.10.0->accelerate) (2.20.5)\n",
      "Requirement already satisfied: filelock in /mnt/home/veralarabernhard/SwissTextSDG/sdg_env/lib/python3.8/site-packages (from torch>=1.10.0->accelerate) (3.13.4)\n",
      "Requirement already satisfied: nvidia-nvtx-cu12==12.1.105; platform_system == \"Linux\" and platform_machine == \"x86_64\" in /mnt/home/veralarabernhard/SwissTextSDG/sdg_env/lib/python3.8/site-packages (from torch>=1.10.0->accelerate) (12.1.105)\n",
      "Requirement already satisfied: triton==2.3.0; platform_system == \"Linux\" and platform_machine == \"x86_64\" and python_version < \"3.12\" in /mnt/home/veralarabernhard/SwissTextSDG/sdg_env/lib/python3.8/site-packages (from torch>=1.10.0->accelerate) (2.3.0)\n",
      "Requirement already satisfied: nvidia-cudnn-cu12==8.9.2.26; platform_system == \"Linux\" and platform_machine == \"x86_64\" in /mnt/home/veralarabernhard/SwissTextSDG/sdg_env/lib/python3.8/site-packages (from torch>=1.10.0->accelerate) (8.9.2.26)\n",
      "Requirement already satisfied: nvidia-cuda-runtime-cu12==12.1.105; platform_system == \"Linux\" and platform_machine == \"x86_64\" in /mnt/home/veralarabernhard/SwissTextSDG/sdg_env/lib/python3.8/site-packages (from torch>=1.10.0->accelerate) (12.1.105)\n",
      "Requirement already satisfied: tqdm>=4.42.1 in /mnt/home/veralarabernhard/SwissTextSDG/sdg_env/lib/python3.8/site-packages (from huggingface-hub->accelerate) (4.66.2)\n",
      "Requirement already satisfied: requests in /mnt/home/veralarabernhard/SwissTextSDG/sdg_env/lib/python3.8/site-packages (from huggingface-hub->accelerate) (2.31.0)\n",
      "Requirement already satisfied: mpmath>=0.19 in /mnt/home/veralarabernhard/SwissTextSDG/sdg_env/lib/python3.8/site-packages (from sympy->torch>=1.10.0->accelerate) (1.3.0)\n",
      "Requirement already satisfied: nvidia-nvjitlink-cu12 in /mnt/home/veralarabernhard/SwissTextSDG/sdg_env/lib/python3.8/site-packages (from nvidia-cusparse-cu12==12.1.0.106; platform_system == \"Linux\" and platform_machine == \"x86_64\"->torch>=1.10.0->accelerate) (12.4.127)\n",
      "Requirement already satisfied: MarkupSafe>=2.0 in /mnt/home/veralarabernhard/SwissTextSDG/sdg_env/lib/python3.8/site-packages (from jinja2->torch>=1.10.0->accelerate) (2.1.5)\n",
      "Requirement already satisfied: urllib3<3,>=1.21.1 in /mnt/home/veralarabernhard/SwissTextSDG/sdg_env/lib/python3.8/site-packages (from requests->huggingface-hub->accelerate) (2.2.1)\n",
      "Requirement already satisfied: charset-normalizer<4,>=2 in /mnt/home/veralarabernhard/SwissTextSDG/sdg_env/lib/python3.8/site-packages (from requests->huggingface-hub->accelerate) (3.3.2)\n",
      "Requirement already satisfied: idna<4,>=2.5 in /mnt/home/veralarabernhard/SwissTextSDG/sdg_env/lib/python3.8/site-packages (from requests->huggingface-hub->accelerate) (3.7)\n",
      "Requirement already satisfied: certifi>=2017.4.17 in /mnt/home/veralarabernhard/SwissTextSDG/sdg_env/lib/python3.8/site-packages (from requests->huggingface-hub->accelerate) (2024.2.2)\n",
      "Requirement already satisfied: peft in /mnt/home/veralarabernhard/SwissTextSDG/sdg_env/lib/python3.8/site-packages (0.10.0)\n",
      "Requirement already satisfied: packaging>=20.0 in /mnt/home/veralarabernhard/SwissTextSDG/sdg_env/lib/python3.8/site-packages (from peft) (24.0)\n",
      "Requirement already satisfied: accelerate>=0.21.0 in /mnt/home/veralarabernhard/SwissTextSDG/sdg_env/lib/python3.8/site-packages (from peft) (0.29.3)\n",
      "Requirement already satisfied: numpy>=1.17 in /mnt/home/veralarabernhard/SwissTextSDG/sdg_env/lib/python3.8/site-packages (from peft) (1.24.4)\n",
      "Requirement already satisfied: safetensors in /mnt/home/veralarabernhard/SwissTextSDG/sdg_env/lib/python3.8/site-packages (from peft) (0.4.3)\n",
      "Requirement already satisfied: huggingface-hub>=0.17.0 in /mnt/home/veralarabernhard/SwissTextSDG/sdg_env/lib/python3.8/site-packages (from peft) (0.22.2)\n",
      "Requirement already satisfied: psutil in /mnt/home/veralarabernhard/SwissTextSDG/sdg_env/lib/python3.8/site-packages (from peft) (5.9.8)\n",
      "Requirement already satisfied: transformers in /mnt/home/veralarabernhard/SwissTextSDG/sdg_env/lib/python3.8/site-packages (from peft) (4.40.1)\n",
      "Requirement already satisfied: tqdm in /mnt/home/veralarabernhard/SwissTextSDG/sdg_env/lib/python3.8/site-packages (from peft) (4.66.2)\n",
      "Requirement already satisfied: pyyaml in /mnt/home/veralarabernhard/SwissTextSDG/sdg_env/lib/python3.8/site-packages (from peft) (6.0.1)\n",
      "Requirement already satisfied: torch>=1.13.0 in /mnt/home/veralarabernhard/SwissTextSDG/sdg_env/lib/python3.8/site-packages (from peft) (2.3.0)\n",
      "Requirement already satisfied: filelock in /mnt/home/veralarabernhard/SwissTextSDG/sdg_env/lib/python3.8/site-packages (from huggingface-hub>=0.17.0->peft) (3.13.4)\n",
      "Requirement already satisfied: requests in /mnt/home/veralarabernhard/SwissTextSDG/sdg_env/lib/python3.8/site-packages (from huggingface-hub>=0.17.0->peft) (2.31.0)\n",
      "Requirement already satisfied: typing-extensions>=3.7.4.3 in /mnt/home/veralarabernhard/SwissTextSDG/sdg_env/lib/python3.8/site-packages (from huggingface-hub>=0.17.0->peft) (4.11.0)\n",
      "Requirement already satisfied: fsspec>=2023.5.0 in /mnt/home/veralarabernhard/SwissTextSDG/sdg_env/lib/python3.8/site-packages (from huggingface-hub>=0.17.0->peft) (2024.3.1)\n",
      "Requirement already satisfied: regex!=2019.12.17 in /mnt/home/veralarabernhard/SwissTextSDG/sdg_env/lib/python3.8/site-packages (from transformers->peft) (2024.4.16)\n",
      "Requirement already satisfied: tokenizers<0.20,>=0.19 in /mnt/home/veralarabernhard/SwissTextSDG/sdg_env/lib/python3.8/site-packages (from transformers->peft) (0.19.1)\n",
      "Requirement already satisfied: nvidia-cudnn-cu12==8.9.2.26; platform_system == \"Linux\" and platform_machine == \"x86_64\" in /mnt/home/veralarabernhard/SwissTextSDG/sdg_env/lib/python3.8/site-packages (from torch>=1.13.0->peft) (8.9.2.26)\n",
      "Requirement already satisfied: nvidia-cusolver-cu12==11.4.5.107; platform_system == \"Linux\" and platform_machine == \"x86_64\" in /mnt/home/veralarabernhard/SwissTextSDG/sdg_env/lib/python3.8/site-packages (from torch>=1.13.0->peft) (11.4.5.107)\n",
      "Requirement already satisfied: nvidia-cuda-nvrtc-cu12==12.1.105; platform_system == \"Linux\" and platform_machine == \"x86_64\" in /mnt/home/veralarabernhard/SwissTextSDG/sdg_env/lib/python3.8/site-packages (from torch>=1.13.0->peft) (12.1.105)\n",
      "Requirement already satisfied: nvidia-cusparse-cu12==12.1.0.106; platform_system == \"Linux\" and platform_machine == \"x86_64\" in /mnt/home/veralarabernhard/SwissTextSDG/sdg_env/lib/python3.8/site-packages (from torch>=1.13.0->peft) (12.1.0.106)\n",
      "Requirement already satisfied: networkx in /mnt/home/veralarabernhard/SwissTextSDG/sdg_env/lib/python3.8/site-packages (from torch>=1.13.0->peft) (3.1)\n",
      "Requirement already satisfied: jinja2 in /mnt/home/veralarabernhard/SwissTextSDG/sdg_env/lib/python3.8/site-packages (from torch>=1.13.0->peft) (3.1.3)\n",
      "Requirement already satisfied: nvidia-cublas-cu12==12.1.3.1; platform_system == \"Linux\" and platform_machine == \"x86_64\" in /mnt/home/veralarabernhard/SwissTextSDG/sdg_env/lib/python3.8/site-packages (from torch>=1.13.0->peft) (12.1.3.1)\n",
      "Requirement already satisfied: nvidia-nccl-cu12==2.20.5; platform_system == \"Linux\" and platform_machine == \"x86_64\" in /mnt/home/veralarabernhard/SwissTextSDG/sdg_env/lib/python3.8/site-packages (from torch>=1.13.0->peft) (2.20.5)\n",
      "Requirement already satisfied: nvidia-nvtx-cu12==12.1.105; platform_system == \"Linux\" and platform_machine == \"x86_64\" in /mnt/home/veralarabernhard/SwissTextSDG/sdg_env/lib/python3.8/site-packages (from torch>=1.13.0->peft) (12.1.105)\n",
      "Requirement already satisfied: nvidia-cuda-runtime-cu12==12.1.105; platform_system == \"Linux\" and platform_machine == \"x86_64\" in /mnt/home/veralarabernhard/SwissTextSDG/sdg_env/lib/python3.8/site-packages (from torch>=1.13.0->peft) (12.1.105)\n",
      "Requirement already satisfied: nvidia-cuda-cupti-cu12==12.1.105; platform_system == \"Linux\" and platform_machine == \"x86_64\" in /mnt/home/veralarabernhard/SwissTextSDG/sdg_env/lib/python3.8/site-packages (from torch>=1.13.0->peft) (12.1.105)\n",
      "Requirement already satisfied: nvidia-curand-cu12==10.3.2.106; platform_system == \"Linux\" and platform_machine == \"x86_64\" in /mnt/home/veralarabernhard/SwissTextSDG/sdg_env/lib/python3.8/site-packages (from torch>=1.13.0->peft) (10.3.2.106)\n",
      "Requirement already satisfied: sympy in /mnt/home/veralarabernhard/SwissTextSDG/sdg_env/lib/python3.8/site-packages (from torch>=1.13.0->peft) (1.12)\n",
      "Requirement already satisfied: triton==2.3.0; platform_system == \"Linux\" and platform_machine == \"x86_64\" and python_version < \"3.12\" in /mnt/home/veralarabernhard/SwissTextSDG/sdg_env/lib/python3.8/site-packages (from torch>=1.13.0->peft) (2.3.0)\n",
      "Requirement already satisfied: nvidia-cufft-cu12==11.0.2.54; platform_system == \"Linux\" and platform_machine == \"x86_64\" in /mnt/home/veralarabernhard/SwissTextSDG/sdg_env/lib/python3.8/site-packages (from torch>=1.13.0->peft) (11.0.2.54)\n",
      "Requirement already satisfied: idna<4,>=2.5 in /mnt/home/veralarabernhard/SwissTextSDG/sdg_env/lib/python3.8/site-packages (from requests->huggingface-hub>=0.17.0->peft) (3.7)\n",
      "Requirement already satisfied: certifi>=2017.4.17 in /mnt/home/veralarabernhard/SwissTextSDG/sdg_env/lib/python3.8/site-packages (from requests->huggingface-hub>=0.17.0->peft) (2024.2.2)\n",
      "Requirement already satisfied: charset-normalizer<4,>=2 in /mnt/home/veralarabernhard/SwissTextSDG/sdg_env/lib/python3.8/site-packages (from requests->huggingface-hub>=0.17.0->peft) (3.3.2)\n",
      "Requirement already satisfied: urllib3<3,>=1.21.1 in /mnt/home/veralarabernhard/SwissTextSDG/sdg_env/lib/python3.8/site-packages (from requests->huggingface-hub>=0.17.0->peft) (2.2.1)\n",
      "Requirement already satisfied: nvidia-nvjitlink-cu12 in /mnt/home/veralarabernhard/SwissTextSDG/sdg_env/lib/python3.8/site-packages (from nvidia-cusolver-cu12==11.4.5.107; platform_system == \"Linux\" and platform_machine == \"x86_64\"->torch>=1.13.0->peft) (12.4.127)\n",
      "Requirement already satisfied: MarkupSafe>=2.0 in /mnt/home/veralarabernhard/SwissTextSDG/sdg_env/lib/python3.8/site-packages (from jinja2->torch>=1.13.0->peft) (2.1.5)\n",
      "Requirement already satisfied: mpmath>=0.19 in /mnt/home/veralarabernhard/SwissTextSDG/sdg_env/lib/python3.8/site-packages (from sympy->torch>=1.13.0->peft) (1.3.0)\n",
      "Requirement already satisfied: datasets in /mnt/home/veralarabernhard/SwissTextSDG/sdg_env/lib/python3.8/site-packages (2.19.0)\n",
      "Requirement already satisfied: requests>=2.19.0 in /mnt/home/veralarabernhard/SwissTextSDG/sdg_env/lib/python3.8/site-packages (from datasets) (2.31.0)\n",
      "Requirement already satisfied: filelock in /mnt/home/veralarabernhard/SwissTextSDG/sdg_env/lib/python3.8/site-packages (from datasets) (3.13.4)\n",
      "Requirement already satisfied: packaging in /mnt/home/veralarabernhard/SwissTextSDG/sdg_env/lib/python3.8/site-packages (from datasets) (24.0)\n",
      "Requirement already satisfied: pyyaml>=5.1 in /mnt/home/veralarabernhard/SwissTextSDG/sdg_env/lib/python3.8/site-packages (from datasets) (6.0.1)\n",
      "Requirement already satisfied: tqdm>=4.62.1 in /mnt/home/veralarabernhard/SwissTextSDG/sdg_env/lib/python3.8/site-packages (from datasets) (4.66.2)\n",
      "Requirement already satisfied: pyarrow-hotfix in /mnt/home/veralarabernhard/SwissTextSDG/sdg_env/lib/python3.8/site-packages (from datasets) (0.6)\n",
      "Requirement already satisfied: xxhash in /mnt/home/veralarabernhard/SwissTextSDG/sdg_env/lib/python3.8/site-packages (from datasets) (3.4.1)\n",
      "Requirement already satisfied: multiprocess in /mnt/home/veralarabernhard/SwissTextSDG/sdg_env/lib/python3.8/site-packages (from datasets) (0.70.16)\n",
      "Requirement already satisfied: numpy>=1.17 in /mnt/home/veralarabernhard/SwissTextSDG/sdg_env/lib/python3.8/site-packages (from datasets) (1.24.4)\n",
      "Requirement already satisfied: dill<0.3.9,>=0.3.0 in /mnt/home/veralarabernhard/SwissTextSDG/sdg_env/lib/python3.8/site-packages (from datasets) (0.3.8)\n",
      "Requirement already satisfied: aiohttp in /mnt/home/veralarabernhard/SwissTextSDG/sdg_env/lib/python3.8/site-packages (from datasets) (3.9.5)\n",
      "Requirement already satisfied: pandas in /mnt/home/veralarabernhard/SwissTextSDG/sdg_env/lib/python3.8/site-packages (from datasets) (2.0.3)\n",
      "Requirement already satisfied: pyarrow>=12.0.0 in /mnt/home/veralarabernhard/SwissTextSDG/sdg_env/lib/python3.8/site-packages (from datasets) (16.0.0)\n",
      "Requirement already satisfied: huggingface-hub>=0.21.2 in /mnt/home/veralarabernhard/SwissTextSDG/sdg_env/lib/python3.8/site-packages (from datasets) (0.22.2)\n",
      "Requirement already satisfied: fsspec[http]<=2024.3.1,>=2023.1.0 in /mnt/home/veralarabernhard/SwissTextSDG/sdg_env/lib/python3.8/site-packages (from datasets) (2024.3.1)\n",
      "Requirement already satisfied: idna<4,>=2.5 in /mnt/home/veralarabernhard/SwissTextSDG/sdg_env/lib/python3.8/site-packages (from requests>=2.19.0->datasets) (3.7)\n",
      "Requirement already satisfied: charset-normalizer<4,>=2 in /mnt/home/veralarabernhard/SwissTextSDG/sdg_env/lib/python3.8/site-packages (from requests>=2.19.0->datasets) (3.3.2)\n",
      "Requirement already satisfied: urllib3<3,>=1.21.1 in /mnt/home/veralarabernhard/SwissTextSDG/sdg_env/lib/python3.8/site-packages (from requests>=2.19.0->datasets) (2.2.1)\n",
      "Requirement already satisfied: certifi>=2017.4.17 in /mnt/home/veralarabernhard/SwissTextSDG/sdg_env/lib/python3.8/site-packages (from requests>=2.19.0->datasets) (2024.2.2)\n",
      "Requirement already satisfied: multidict<7.0,>=4.5 in /mnt/home/veralarabernhard/SwissTextSDG/sdg_env/lib/python3.8/site-packages (from aiohttp->datasets) (6.0.5)\n",
      "Requirement already satisfied: aiosignal>=1.1.2 in /mnt/home/veralarabernhard/SwissTextSDG/sdg_env/lib/python3.8/site-packages (from aiohttp->datasets) (1.3.1)\n",
      "Requirement already satisfied: async-timeout<5.0,>=4.0; python_version < \"3.11\" in /mnt/home/veralarabernhard/SwissTextSDG/sdg_env/lib/python3.8/site-packages (from aiohttp->datasets) (4.0.3)\n",
      "Requirement already satisfied: yarl<2.0,>=1.0 in /mnt/home/veralarabernhard/SwissTextSDG/sdg_env/lib/python3.8/site-packages (from aiohttp->datasets) (1.9.4)\n",
      "Requirement already satisfied: frozenlist>=1.1.1 in /mnt/home/veralarabernhard/SwissTextSDG/sdg_env/lib/python3.8/site-packages (from aiohttp->datasets) (1.4.1)\n",
      "Requirement already satisfied: attrs>=17.3.0 in /mnt/home/veralarabernhard/SwissTextSDG/sdg_env/lib/python3.8/site-packages (from aiohttp->datasets) (23.2.0)\n",
      "Requirement already satisfied: tzdata>=2022.1 in /mnt/home/veralarabernhard/SwissTextSDG/sdg_env/lib/python3.8/site-packages (from pandas->datasets) (2024.1)\n",
      "Requirement already satisfied: pytz>=2020.1 in /mnt/home/veralarabernhard/SwissTextSDG/sdg_env/lib/python3.8/site-packages (from pandas->datasets) (2024.1)\n",
      "Requirement already satisfied: python-dateutil>=2.8.2 in /mnt/home/veralarabernhard/SwissTextSDG/sdg_env/lib/python3.8/site-packages (from pandas->datasets) (2.9.0.post0)\n",
      "Requirement already satisfied: typing-extensions>=3.7.4.3 in /mnt/home/veralarabernhard/SwissTextSDG/sdg_env/lib/python3.8/site-packages (from huggingface-hub>=0.21.2->datasets) (4.11.0)\n",
      "Requirement already satisfied: six>=1.5 in /mnt/home/veralarabernhard/SwissTextSDG/sdg_env/lib/python3.8/site-packages (from python-dateutil>=2.8.2->pandas->datasets) (1.16.0)\n",
      "Requirement already satisfied: bitsandbytes in /mnt/home/veralarabernhard/SwissTextSDG/sdg_env/lib/python3.8/site-packages (0.42.0)\n",
      "Requirement already satisfied: scipy in /mnt/home/veralarabernhard/SwissTextSDG/sdg_env/lib/python3.8/site-packages (from bitsandbytes) (1.10.1)\n",
      "Requirement already satisfied: numpy<1.27.0,>=1.19.5 in /mnt/home/veralarabernhard/SwissTextSDG/sdg_env/lib/python3.8/site-packages (from scipy->bitsandbytes) (1.24.4)\n",
      "Requirement already satisfied: swifter in /mnt/home/veralarabernhard/SwissTextSDG/sdg_env/lib/python3.8/site-packages (1.4.0)\n",
      "Requirement already satisfied: dask[dataframe]>=2.10.0 in /mnt/home/veralarabernhard/SwissTextSDG/sdg_env/lib/python3.8/site-packages (from swifter) (2023.5.0)\n",
      "Requirement already satisfied: pandas>=1.0.0 in /mnt/home/veralarabernhard/SwissTextSDG/sdg_env/lib/python3.8/site-packages (from swifter) (2.0.3)\n",
      "Requirement already satisfied: psutil>=5.6.6 in /mnt/home/veralarabernhard/SwissTextSDG/sdg_env/lib/python3.8/site-packages (from swifter) (5.9.8)\n",
      "Requirement already satisfied: tqdm>=4.33.0 in /mnt/home/veralarabernhard/SwissTextSDG/sdg_env/lib/python3.8/site-packages (from swifter) (4.66.2)\n",
      "Requirement already satisfied: click>=8.0 in /mnt/home/veralarabernhard/SwissTextSDG/sdg_env/lib/python3.8/site-packages (from dask[dataframe]>=2.10.0->swifter) (8.1.7)\n",
      "Requirement already satisfied: cloudpickle>=1.5.0 in /mnt/home/veralarabernhard/SwissTextSDG/sdg_env/lib/python3.8/site-packages (from dask[dataframe]>=2.10.0->swifter) (3.0.0)\n",
      "Requirement already satisfied: toolz>=0.10.0 in /mnt/home/veralarabernhard/SwissTextSDG/sdg_env/lib/python3.8/site-packages (from dask[dataframe]>=2.10.0->swifter) (0.12.1)\n",
      "Requirement already satisfied: pyyaml>=5.3.1 in /mnt/home/veralarabernhard/SwissTextSDG/sdg_env/lib/python3.8/site-packages (from dask[dataframe]>=2.10.0->swifter) (6.0.1)\n",
      "Requirement already satisfied: importlib-metadata>=4.13.0 in /mnt/home/veralarabernhard/SwissTextSDG/sdg_env/lib/python3.8/site-packages (from dask[dataframe]>=2.10.0->swifter) (7.1.0)\n",
      "Requirement already satisfied: packaging>=20.0 in /mnt/home/veralarabernhard/SwissTextSDG/sdg_env/lib/python3.8/site-packages (from dask[dataframe]>=2.10.0->swifter) (24.0)\n",
      "Requirement already satisfied: partd>=1.2.0 in /mnt/home/veralarabernhard/SwissTextSDG/sdg_env/lib/python3.8/site-packages (from dask[dataframe]>=2.10.0->swifter) (1.4.1)\n",
      "Requirement already satisfied: fsspec>=2021.09.0 in /mnt/home/veralarabernhard/SwissTextSDG/sdg_env/lib/python3.8/site-packages (from dask[dataframe]>=2.10.0->swifter) (2024.3.1)\n",
      "Requirement already satisfied: numpy>=1.21; extra == \"dataframe\" in /mnt/home/veralarabernhard/SwissTextSDG/sdg_env/lib/python3.8/site-packages (from dask[dataframe]>=2.10.0->swifter) (1.24.4)\n",
      "Requirement already satisfied: python-dateutil>=2.8.2 in /mnt/home/veralarabernhard/SwissTextSDG/sdg_env/lib/python3.8/site-packages (from pandas>=1.0.0->swifter) (2.9.0.post0)\n",
      "Requirement already satisfied: tzdata>=2022.1 in /mnt/home/veralarabernhard/SwissTextSDG/sdg_env/lib/python3.8/site-packages (from pandas>=1.0.0->swifter) (2024.1)\n",
      "Requirement already satisfied: pytz>=2020.1 in /mnt/home/veralarabernhard/SwissTextSDG/sdg_env/lib/python3.8/site-packages (from pandas>=1.0.0->swifter) (2024.1)\n",
      "Requirement already satisfied: zipp>=0.5 in /mnt/home/veralarabernhard/SwissTextSDG/sdg_env/lib/python3.8/site-packages (from importlib-metadata>=4.13.0->dask[dataframe]>=2.10.0->swifter) (3.18.1)\n",
      "Requirement already satisfied: locket in /mnt/home/veralarabernhard/SwissTextSDG/sdg_env/lib/python3.8/site-packages (from partd>=1.2.0->dask[dataframe]>=2.10.0->swifter) (1.0.0)\n",
      "Requirement already satisfied: six>=1.5 in /mnt/home/veralarabernhard/SwissTextSDG/sdg_env/lib/python3.8/site-packages (from python-dateutil>=2.8.2->pandas>=1.0.0->swifter) (1.16.0)\n",
      "Requirement already satisfied: pytorch_transformers in /mnt/home/veralarabernhard/SwissTextSDG/sdg_env/lib/python3.8/site-packages (1.2.0)\n",
      "Requirement already satisfied: numpy in /mnt/home/veralarabernhard/SwissTextSDG/sdg_env/lib/python3.8/site-packages (from pytorch_transformers) (1.24.4)\n",
      "Requirement already satisfied: requests in /mnt/home/veralarabernhard/SwissTextSDG/sdg_env/lib/python3.8/site-packages (from pytorch_transformers) (2.31.0)\n",
      "Requirement already satisfied: tqdm in /mnt/home/veralarabernhard/SwissTextSDG/sdg_env/lib/python3.8/site-packages (from pytorch_transformers) (4.66.2)\n",
      "Requirement already satisfied: regex in /mnt/home/veralarabernhard/SwissTextSDG/sdg_env/lib/python3.8/site-packages (from pytorch_transformers) (2024.4.16)\n",
      "Requirement already satisfied: sacremoses in /mnt/home/veralarabernhard/SwissTextSDG/sdg_env/lib/python3.8/site-packages (from pytorch_transformers) (0.1.1)\n",
      "Requirement already satisfied: boto3 in /mnt/home/veralarabernhard/SwissTextSDG/sdg_env/lib/python3.8/site-packages (from pytorch_transformers) (1.34.93)\n",
      "Requirement already satisfied: sentencepiece in /mnt/home/veralarabernhard/SwissTextSDG/sdg_env/lib/python3.8/site-packages (from pytorch_transformers) (0.2.0)\n",
      "Requirement already satisfied: torch>=1.0.0 in /mnt/home/veralarabernhard/SwissTextSDG/sdg_env/lib/python3.8/site-packages (from pytorch_transformers) (2.3.0)\n",
      "Requirement already satisfied: certifi>=2017.4.17 in /mnt/home/veralarabernhard/SwissTextSDG/sdg_env/lib/python3.8/site-packages (from requests->pytorch_transformers) (2024.2.2)\n",
      "Requirement already satisfied: urllib3<3,>=1.21.1 in /mnt/home/veralarabernhard/SwissTextSDG/sdg_env/lib/python3.8/site-packages (from requests->pytorch_transformers) (2.2.1)\n",
      "Requirement already satisfied: idna<4,>=2.5 in /mnt/home/veralarabernhard/SwissTextSDG/sdg_env/lib/python3.8/site-packages (from requests->pytorch_transformers) (3.7)\n",
      "Requirement already satisfied: charset-normalizer<4,>=2 in /mnt/home/veralarabernhard/SwissTextSDG/sdg_env/lib/python3.8/site-packages (from requests->pytorch_transformers) (3.3.2)\n",
      "Requirement already satisfied: joblib in /mnt/home/veralarabernhard/SwissTextSDG/sdg_env/lib/python3.8/site-packages (from sacremoses->pytorch_transformers) (1.4.0)\n",
      "Requirement already satisfied: click in /mnt/home/veralarabernhard/SwissTextSDG/sdg_env/lib/python3.8/site-packages (from sacremoses->pytorch_transformers) (8.1.7)\n",
      "Requirement already satisfied: botocore<1.35.0,>=1.34.93 in /mnt/home/veralarabernhard/SwissTextSDG/sdg_env/lib/python3.8/site-packages (from boto3->pytorch_transformers) (1.34.93)\n",
      "Requirement already satisfied: s3transfer<0.11.0,>=0.10.0 in /mnt/home/veralarabernhard/SwissTextSDG/sdg_env/lib/python3.8/site-packages (from boto3->pytorch_transformers) (0.10.1)\n",
      "Requirement already satisfied: jmespath<2.0.0,>=0.7.1 in /mnt/home/veralarabernhard/SwissTextSDG/sdg_env/lib/python3.8/site-packages (from boto3->pytorch_transformers) (1.0.1)\n",
      "Requirement already satisfied: fsspec in /mnt/home/veralarabernhard/SwissTextSDG/sdg_env/lib/python3.8/site-packages (from torch>=1.0.0->pytorch_transformers) (2024.3.1)\n",
      "Requirement already satisfied: jinja2 in /mnt/home/veralarabernhard/SwissTextSDG/sdg_env/lib/python3.8/site-packages (from torch>=1.0.0->pytorch_transformers) (3.1.3)\n",
      "Requirement already satisfied: nvidia-cusolver-cu12==11.4.5.107; platform_system == \"Linux\" and platform_machine == \"x86_64\" in /mnt/home/veralarabernhard/SwissTextSDG/sdg_env/lib/python3.8/site-packages (from torch>=1.0.0->pytorch_transformers) (11.4.5.107)\n",
      "Requirement already satisfied: nvidia-cublas-cu12==12.1.3.1; platform_system == \"Linux\" and platform_machine == \"x86_64\" in /mnt/home/veralarabernhard/SwissTextSDG/sdg_env/lib/python3.8/site-packages (from torch>=1.0.0->pytorch_transformers) (12.1.3.1)\n",
      "Requirement already satisfied: nvidia-nvtx-cu12==12.1.105; platform_system == \"Linux\" and platform_machine == \"x86_64\" in /mnt/home/veralarabernhard/SwissTextSDG/sdg_env/lib/python3.8/site-packages (from torch>=1.0.0->pytorch_transformers) (12.1.105)\n",
      "Requirement already satisfied: nvidia-cuda-runtime-cu12==12.1.105; platform_system == \"Linux\" and platform_machine == \"x86_64\" in /mnt/home/veralarabernhard/SwissTextSDG/sdg_env/lib/python3.8/site-packages (from torch>=1.0.0->pytorch_transformers) (12.1.105)\n",
      "Requirement already satisfied: nvidia-cusparse-cu12==12.1.0.106; platform_system == \"Linux\" and platform_machine == \"x86_64\" in /mnt/home/veralarabernhard/SwissTextSDG/sdg_env/lib/python3.8/site-packages (from torch>=1.0.0->pytorch_transformers) (12.1.0.106)\n",
      "Requirement already satisfied: nvidia-nccl-cu12==2.20.5; platform_system == \"Linux\" and platform_machine == \"x86_64\" in /mnt/home/veralarabernhard/SwissTextSDG/sdg_env/lib/python3.8/site-packages (from torch>=1.0.0->pytorch_transformers) (2.20.5)\n",
      "Requirement already satisfied: nvidia-cuda-nvrtc-cu12==12.1.105; platform_system == \"Linux\" and platform_machine == \"x86_64\" in /mnt/home/veralarabernhard/SwissTextSDG/sdg_env/lib/python3.8/site-packages (from torch>=1.0.0->pytorch_transformers) (12.1.105)\n",
      "Requirement already satisfied: sympy in /mnt/home/veralarabernhard/SwissTextSDG/sdg_env/lib/python3.8/site-packages (from torch>=1.0.0->pytorch_transformers) (1.12)\n",
      "Requirement already satisfied: filelock in /mnt/home/veralarabernhard/SwissTextSDG/sdg_env/lib/python3.8/site-packages (from torch>=1.0.0->pytorch_transformers) (3.13.4)\n",
      "Requirement already satisfied: triton==2.3.0; platform_system == \"Linux\" and platform_machine == \"x86_64\" and python_version < \"3.12\" in /mnt/home/veralarabernhard/SwissTextSDG/sdg_env/lib/python3.8/site-packages (from torch>=1.0.0->pytorch_transformers) (2.3.0)\n",
      "Requirement already satisfied: nvidia-cudnn-cu12==8.9.2.26; platform_system == \"Linux\" and platform_machine == \"x86_64\" in /mnt/home/veralarabernhard/SwissTextSDG/sdg_env/lib/python3.8/site-packages (from torch>=1.0.0->pytorch_transformers) (8.9.2.26)\n",
      "Requirement already satisfied: nvidia-cufft-cu12==11.0.2.54; platform_system == \"Linux\" and platform_machine == \"x86_64\" in /mnt/home/veralarabernhard/SwissTextSDG/sdg_env/lib/python3.8/site-packages (from torch>=1.0.0->pytorch_transformers) (11.0.2.54)\n",
      "Requirement already satisfied: nvidia-cuda-cupti-cu12==12.1.105; platform_system == \"Linux\" and platform_machine == \"x86_64\" in /mnt/home/veralarabernhard/SwissTextSDG/sdg_env/lib/python3.8/site-packages (from torch>=1.0.0->pytorch_transformers) (12.1.105)\n",
      "Requirement already satisfied: networkx in /mnt/home/veralarabernhard/SwissTextSDG/sdg_env/lib/python3.8/site-packages (from torch>=1.0.0->pytorch_transformers) (3.1)\n",
      "Requirement already satisfied: typing-extensions>=4.8.0 in /mnt/home/veralarabernhard/SwissTextSDG/sdg_env/lib/python3.8/site-packages (from torch>=1.0.0->pytorch_transformers) (4.11.0)\n",
      "Requirement already satisfied: nvidia-curand-cu12==10.3.2.106; platform_system == \"Linux\" and platform_machine == \"x86_64\" in /mnt/home/veralarabernhard/SwissTextSDG/sdg_env/lib/python3.8/site-packages (from torch>=1.0.0->pytorch_transformers) (10.3.2.106)\n",
      "Requirement already satisfied: python-dateutil<3.0.0,>=2.1 in /mnt/home/veralarabernhard/SwissTextSDG/sdg_env/lib/python3.8/site-packages (from botocore<1.35.0,>=1.34.93->boto3->pytorch_transformers) (2.9.0.post0)\n",
      "Requirement already satisfied: MarkupSafe>=2.0 in /mnt/home/veralarabernhard/SwissTextSDG/sdg_env/lib/python3.8/site-packages (from jinja2->torch>=1.0.0->pytorch_transformers) (2.1.5)\n",
      "Requirement already satisfied: nvidia-nvjitlink-cu12 in /mnt/home/veralarabernhard/SwissTextSDG/sdg_env/lib/python3.8/site-packages (from nvidia-cusolver-cu12==11.4.5.107; platform_system == \"Linux\" and platform_machine == \"x86_64\"->torch>=1.0.0->pytorch_transformers) (12.4.127)\n",
      "Requirement already satisfied: mpmath>=0.19 in /mnt/home/veralarabernhard/SwissTextSDG/sdg_env/lib/python3.8/site-packages (from sympy->torch>=1.0.0->pytorch_transformers) (1.3.0)\n",
      "Requirement already satisfied: six>=1.5 in /mnt/home/veralarabernhard/SwissTextSDG/sdg_env/lib/python3.8/site-packages (from python-dateutil<3.0.0,>=2.1->botocore<1.35.0,>=1.34.93->boto3->pytorch_transformers) (1.16.0)\n",
      "Requirement already satisfied: huggingface_hub in /mnt/home/veralarabernhard/SwissTextSDG/sdg_env/lib/python3.8/site-packages (0.22.2)\n",
      "Requirement already satisfied: pyyaml>=5.1 in /mnt/home/veralarabernhard/SwissTextSDG/sdg_env/lib/python3.8/site-packages (from huggingface_hub) (6.0.1)\n",
      "Requirement already satisfied: tqdm>=4.42.1 in /mnt/home/veralarabernhard/SwissTextSDG/sdg_env/lib/python3.8/site-packages (from huggingface_hub) (4.66.2)\n",
      "Requirement already satisfied: typing-extensions>=3.7.4.3 in /mnt/home/veralarabernhard/SwissTextSDG/sdg_env/lib/python3.8/site-packages (from huggingface_hub) (4.11.0)\n",
      "Requirement already satisfied: requests in /mnt/home/veralarabernhard/SwissTextSDG/sdg_env/lib/python3.8/site-packages (from huggingface_hub) (2.31.0)\n",
      "Requirement already satisfied: filelock in /mnt/home/veralarabernhard/SwissTextSDG/sdg_env/lib/python3.8/site-packages (from huggingface_hub) (3.13.4)\n",
      "Requirement already satisfied: fsspec>=2023.5.0 in /mnt/home/veralarabernhard/SwissTextSDG/sdg_env/lib/python3.8/site-packages (from huggingface_hub) (2024.3.1)\n",
      "Requirement already satisfied: packaging>=20.9 in /mnt/home/veralarabernhard/SwissTextSDG/sdg_env/lib/python3.8/site-packages (from huggingface_hub) (24.0)\n",
      "Requirement already satisfied: certifi>=2017.4.17 in /mnt/home/veralarabernhard/SwissTextSDG/sdg_env/lib/python3.8/site-packages (from requests->huggingface_hub) (2024.2.2)\n",
      "Requirement already satisfied: charset-normalizer<4,>=2 in /mnt/home/veralarabernhard/SwissTextSDG/sdg_env/lib/python3.8/site-packages (from requests->huggingface_hub) (3.3.2)\n",
      "Requirement already satisfied: idna<4,>=2.5 in /mnt/home/veralarabernhard/SwissTextSDG/sdg_env/lib/python3.8/site-packages (from requests->huggingface_hub) (3.7)\n",
      "Requirement already satisfied: urllib3<3,>=1.21.1 in /mnt/home/veralarabernhard/SwissTextSDG/sdg_env/lib/python3.8/site-packages (from requests->huggingface_hub) (2.2.1)\n",
      "Token has not been saved to git credential helper. Pass `add_to_git_credential=True` if you want to set the git credential as well.\n",
      "Token is valid (permission: write).\n",
      "Your token has been saved to /mnt/home/veralarabernhard/.cache/huggingface/token\n",
      "Login successful\n"
     ]
    }
   ],
   "source": [
    "!pip install transformers\n",
    "!pip install accelerate\n",
    "!pip install peft\n",
    "!pip install datasets\n",
    "!pip install bitsandbytes\n",
    "!pip install swifter\n",
    "!pip install pytorch_transformers\n",
    "!pip install huggingface_hub\n",
    "\n",
    "from config import *\n",
    "from huggingface_hub import login\n",
    "login(HUGGINGFACE_TOKEN)"
   ]
  },
  {
   "cell_type": "code",
   "execution_count": 1,
   "metadata": {},
   "outputs": [],
   "source": [
    "import torch\n",
    "from transformers import (AutoTokenizer,\n",
    "                          MistralForSequenceClassification, \n",
    "                          BitsAndBytesConfig, \n",
    "                          Trainer, \n",
    "                          TrainingArguments)\n",
    "from datasets import Dataset\n",
    "from peft import (LoraConfig, \n",
    "                  PeftConfig, \n",
    "                  PeftModel, \n",
    "                  get_peft_model,\n",
    "                  prepare_model_for_kbit_training)\n",
    "from sklearn.metrics import f1_score"
   ]
  },
  {
   "cell_type": "code",
   "execution_count": 2,
   "metadata": {},
   "outputs": [],
   "source": [
    "model_checkpoint = 'mistralai/Mistral-7B-v0.1'"
   ]
  },
  {
   "cell_type": "code",
   "execution_count": 3,
   "metadata": {},
   "outputs": [],
   "source": [
    "bnb_config = BitsAndBytesConfig(\n",
    "    load_in_4bit= True,\n",
    "    bnb_4bit_quant_type= 'nf4',\n",
    "    bnb_4bit_compute_dtype= torch.bfloat16,\n",
    "    bnb_4bit_use_double_quant= True,\n",
    ")"
   ]
  },
  {
   "cell_type": "code",
   "execution_count": 4,
   "metadata": {},
   "outputs": [
    {
     "data": {
      "application/vnd.jupyter.widget-view+json": {
       "model_id": "1c8ff12a2d724b1dbb59c8d9f317d96f",
       "version_major": 2,
       "version_minor": 0
      },
      "text/plain": [
       "Loading checkpoint shards:   0%|          | 0/2 [00:00<?, ?it/s]"
      ]
     },
     "metadata": {},
     "output_type": "display_data"
    },
    {
     "name": "stderr",
     "output_type": "stream",
     "text": [
      "Some weights of MistralForSequenceClassification were not initialized from the model checkpoint at mistralai/Mistral-7B-v0.1 and are newly initialized: ['score.weight']\n",
      "You should probably TRAIN this model on a down-stream task to be able to use it for predictions and inference.\n"
     ]
    }
   ],
   "source": [
    "model = MistralForSequenceClassification.from_pretrained(\n",
    "        model_checkpoint,\n",
    "        num_labels=18,\n",
    "        quantization_config=bnb_config,\n",
    "        device_map='auto',\n",
    ")"
   ]
  },
  {
   "cell_type": "code",
   "execution_count": 5,
   "metadata": {},
   "outputs": [],
   "source": [
    "model = prepare_model_for_kbit_training(model)\n",
    "peft_config = LoraConfig(\n",
    "    lora_alpha=16,\n",
    "    lora_dropout=0.1,\n",
    "    r=2,\n",
    "    bias='none',\n",
    "    task_type='SEQ_CLS',\n",
    "    target_modules=['q_proj', 'v_proj']\n",
    ")\n",
    "model = get_peft_model(model, peft_config)"
   ]
  },
  {
   "cell_type": "code",
   "execution_count": 6,
   "metadata": {},
   "outputs": [],
   "source": [
    "tokenizer = AutoTokenizer.from_pretrained(model_checkpoint)\n",
    "tokenizer.pad_token = tokenizer.eos_token\n",
    "tokenizer.add_eos_token = True\n",
    "model.config.pad_token_id = tokenizer.pad_token_id"
   ]
  },
  {
   "cell_type": "code",
   "execution_count": 8,
   "metadata": {},
   "outputs": [],
   "source": [
    "def tokenize(batch):\n",
    "    return tokenizer(batch['text'], truncation=True)"
   ]
  },
  {
   "cell_type": "code",
   "execution_count": 9,
   "metadata": {},
   "outputs": [
    {
     "name": "stdout",
     "output_type": "stream",
     "text": [
      "/mnt/home/veralarabernhard/SwissTextSDG\n"
     ]
    }
   ],
   "source": [
    "%cd ../../.."
   ]
  },
  {
   "cell_type": "code",
   "execution_count": 13,
   "metadata": {},
   "outputs": [
    {
     "data": {
      "text/plain": [
       "43"
      ]
     },
     "execution_count": 13,
     "metadata": {},
     "output_type": "execute_result"
    }
   ],
   "source": [
    "import sys\n",
    "import os\n",
    "\n",
    "from src.data.dataset import TrainSwissTextDataset\n",
    "     \n",
    "\n",
    "dataset = TrainSwissTextDataset.create_instance(dataset='swisstext_task1_train', model_name='qlora-mistral', use_val=True, train_frac=0.7)\n",
    "train_df, test_df, val_df = dataset.get_data_sets()\n",
    "len(train_df)"
   ]
  },
  {
   "cell_type": "code",
   "execution_count": 19,
   "metadata": {},
   "outputs": [
    {
     "data": {
      "application/vnd.jupyter.widget-view+json": {
       "model_id": "7c2ca0e61a1a45e68111433db2d47ab7",
       "version_major": 2,
       "version_minor": 0
      },
      "text/plain": [
       "Map:   0%|          | 0/142 [00:00<?, ? examples/s]"
      ]
     },
     "metadata": {},
     "output_type": "display_data"
    },
    {
     "data": {
      "application/vnd.jupyter.widget-view+json": {
       "model_id": "8fe668a5383144ea99896f1068c8fa43",
       "version_major": 2,
       "version_minor": 0
      },
      "text/plain": [
       "Map:   0%|          | 0/145 [00:00<?, ? examples/s]"
      ]
     },
     "metadata": {},
     "output_type": "display_data"
    }
   ],
   "source": [
    "train_df['text'] = train_df['TITLE'] + ' ' + train_df['ABSTRACT']\n",
    "val_df['text'] = val_df['TITLE'] + ' ' + val_df['ABSTRACT']\n",
    "# rename sgd to label\n",
    "train_df = train_df.rename(columns={'sdg': 'labels'})\n",
    "val_df = val_df.rename(columns={'sdg': 'labels'})\n",
    "\n",
    "train_ds = Dataset.from_pandas(train_df, split='train')\n",
    "val_ds = Dataset.from_pandas(val_df, split='val')\n",
    "\n",
    "\n",
    "train_ds_tokenized = train_ds.map(tokenize, batched=True)\n",
    "val_ds_tokenized = val_ds.map(tokenize, batched=True)"
   ]
  },
  {
   "cell_type": "code",
   "execution_count": null,
   "metadata": {},
   "outputs": [],
   "source": [
    "\n",
    "train_ds = Dataset.from_pandas(train_df, split='train')\n",
    "val_ds = Dataset.from_pandas(val_df, split='val')\n"
   ]
  },
  {
   "cell_type": "code",
   "execution_count": 20,
   "metadata": {},
   "outputs": [
    {
     "data": {
      "text/plain": [
       "{0, 1, 2, 3, 4, 5, 6, 7, 8, 9, 10, 11, 12, 13, 14, 15, 16, 17}"
      ]
     },
     "execution_count": 20,
     "metadata": {},
     "output_type": "execute_result"
    }
   ],
   "source": [
    "set(train_df.labels.to_list())"
   ]
  },
  {
   "cell_type": "code",
   "execution_count": 14,
   "metadata": {},
   "outputs": [],
   "source": [
    "def compute_metrics(pred):    \n",
    "    labels = pred.label_ids\n",
    "    preds = pred.predictions.argmax(-1)\n",
    "    f1_result = f1_score(labels, preds, average='weighted')\n",
    "    return {'f1_score': f1_result}"
   ]
  },
  {
   "cell_type": "code",
   "execution_count": 15,
   "metadata": {},
   "outputs": [],
   "source": [
    "training_args = TrainingArguments(\n",
    "    output_dir='./checkpoints',\n",
    "    learning_rate=2e-5,\n",
    "    per_device_train_batch_size=1,\n",
    "    num_train_epochs=5,\n",
    "    weight_decay=0.01,\n",
    "    evaluation_strategy=\"epoch\",\n",
    "    save_strategy=\"epoch\"\n",
    ")"
   ]
  },
  {
   "cell_type": "code",
   "execution_count": 17,
   "metadata": {},
   "outputs": [
    {
     "name": "stdout",
     "output_type": "stream",
     "text": [
      "[2024-04-29 14:54:57][WARNING]\tDetected kernel version 5.4.0, which is below the recommended minimum of 5.5.0; this can cause the process to hang. It is recommended to upgrade the kernel to the minimum version or higher.\n"
     ]
    },
    {
     "ename": "TypeError",
     "evalue": "vars() argument must have __dict__ attribute",
     "output_type": "error",
     "traceback": [
      "\u001b[0;31m---------------------------------------------------------------------------\u001b[0m",
      "\u001b[0;31mTypeError\u001b[0m                                 Traceback (most recent call last)",
      "Cell \u001b[0;32mIn[17], line 9\u001b[0m\n\u001b[1;32m      1\u001b[0m trainer \u001b[38;5;241m=\u001b[39m Trainer(\n\u001b[1;32m      2\u001b[0m     model\u001b[38;5;241m=\u001b[39mmodel,\n\u001b[1;32m      3\u001b[0m     args\u001b[38;5;241m=\u001b[39mtraining_args,\n\u001b[0;32m   (...)\u001b[0m\n\u001b[1;32m      7\u001b[0m     compute_metrics\u001b[38;5;241m=\u001b[39mcompute_metrics,\n\u001b[1;32m      8\u001b[0m )\n\u001b[0;32m----> 9\u001b[0m \u001b[43mtrainer\u001b[49m\u001b[38;5;241;43m.\u001b[39;49m\u001b[43mtrain\u001b[49m\u001b[43m(\u001b[49m\u001b[43m)\u001b[49m\n",
      "File \u001b[0;32m~/SwissTextSDG/sdg_env/lib/python3.8/site-packages/transformers/trainer.py:1859\u001b[0m, in \u001b[0;36mTrainer.train\u001b[0;34m(self, resume_from_checkpoint, trial, ignore_keys_for_eval, **kwargs)\u001b[0m\n\u001b[1;32m   1857\u001b[0m         hf_hub_utils\u001b[38;5;241m.\u001b[39menable_progress_bars()\n\u001b[1;32m   1858\u001b[0m \u001b[38;5;28;01melse\u001b[39;00m:\n\u001b[0;32m-> 1859\u001b[0m     \u001b[38;5;28;01mreturn\u001b[39;00m \u001b[43minner_training_loop\u001b[49m\u001b[43m(\u001b[49m\n\u001b[1;32m   1860\u001b[0m \u001b[43m        \u001b[49m\u001b[43margs\u001b[49m\u001b[38;5;241;43m=\u001b[39;49m\u001b[43margs\u001b[49m\u001b[43m,\u001b[49m\n\u001b[1;32m   1861\u001b[0m \u001b[43m        \u001b[49m\u001b[43mresume_from_checkpoint\u001b[49m\u001b[38;5;241;43m=\u001b[39;49m\u001b[43mresume_from_checkpoint\u001b[49m\u001b[43m,\u001b[49m\n\u001b[1;32m   1862\u001b[0m \u001b[43m        \u001b[49m\u001b[43mtrial\u001b[49m\u001b[38;5;241;43m=\u001b[39;49m\u001b[43mtrial\u001b[49m\u001b[43m,\u001b[49m\n\u001b[1;32m   1863\u001b[0m \u001b[43m        \u001b[49m\u001b[43mignore_keys_for_eval\u001b[49m\u001b[38;5;241;43m=\u001b[39;49m\u001b[43mignore_keys_for_eval\u001b[49m\u001b[43m,\u001b[49m\n\u001b[1;32m   1864\u001b[0m \u001b[43m    \u001b[49m\u001b[43m)\u001b[49m\n",
      "File \u001b[0;32m~/SwissTextSDG/sdg_env/lib/python3.8/site-packages/transformers/trainer.py:2165\u001b[0m, in \u001b[0;36mTrainer._inner_training_loop\u001b[0;34m(self, batch_size, args, resume_from_checkpoint, trial, ignore_keys_for_eval)\u001b[0m\n\u001b[1;32m   2162\u001b[0m     rng_to_sync \u001b[38;5;241m=\u001b[39m \u001b[38;5;28;01mTrue\u001b[39;00m\n\u001b[1;32m   2164\u001b[0m step \u001b[38;5;241m=\u001b[39m \u001b[38;5;241m-\u001b[39m\u001b[38;5;241m1\u001b[39m\n\u001b[0;32m-> 2165\u001b[0m \u001b[38;5;28;01mfor\u001b[39;00m step, inputs \u001b[38;5;129;01min\u001b[39;00m \u001b[38;5;28menumerate\u001b[39m(epoch_iterator):\n\u001b[1;32m   2166\u001b[0m     total_batched_samples \u001b[38;5;241m+\u001b[39m\u001b[38;5;241m=\u001b[39m \u001b[38;5;241m1\u001b[39m\n\u001b[1;32m   2168\u001b[0m     \u001b[38;5;28;01mif\u001b[39;00m \u001b[38;5;28mself\u001b[39m\u001b[38;5;241m.\u001b[39margs\u001b[38;5;241m.\u001b[39minclude_num_input_tokens_seen:\n",
      "File \u001b[0;32m~/SwissTextSDG/sdg_env/lib/python3.8/site-packages/accelerate/data_loader.py:452\u001b[0m, in \u001b[0;36mDataLoaderShard.__iter__\u001b[0;34m(self)\u001b[0m\n\u001b[1;32m    450\u001b[0m \u001b[38;5;66;03m# We iterate one batch ahead to check when we are at the end\u001b[39;00m\n\u001b[1;32m    451\u001b[0m \u001b[38;5;28;01mtry\u001b[39;00m:\n\u001b[0;32m--> 452\u001b[0m     current_batch \u001b[38;5;241m=\u001b[39m \u001b[38;5;28;43mnext\u001b[39;49m\u001b[43m(\u001b[49m\u001b[43mdataloader_iter\u001b[49m\u001b[43m)\u001b[49m\n\u001b[1;32m    453\u001b[0m \u001b[38;5;28;01mexcept\u001b[39;00m \u001b[38;5;167;01mStopIteration\u001b[39;00m:\n\u001b[1;32m    454\u001b[0m     \u001b[38;5;28;01myield\u001b[39;00m\n",
      "File \u001b[0;32m~/SwissTextSDG/sdg_env/lib/python3.8/site-packages/torch/utils/data/dataloader.py:631\u001b[0m, in \u001b[0;36m_BaseDataLoaderIter.__next__\u001b[0;34m(self)\u001b[0m\n\u001b[1;32m    628\u001b[0m \u001b[38;5;28;01mif\u001b[39;00m \u001b[38;5;28mself\u001b[39m\u001b[38;5;241m.\u001b[39m_sampler_iter \u001b[38;5;129;01mis\u001b[39;00m \u001b[38;5;28;01mNone\u001b[39;00m:\n\u001b[1;32m    629\u001b[0m     \u001b[38;5;66;03m# TODO(https://github.com/pytorch/pytorch/issues/76750)\u001b[39;00m\n\u001b[1;32m    630\u001b[0m     \u001b[38;5;28mself\u001b[39m\u001b[38;5;241m.\u001b[39m_reset()  \u001b[38;5;66;03m# type: ignore[call-arg]\u001b[39;00m\n\u001b[0;32m--> 631\u001b[0m data \u001b[38;5;241m=\u001b[39m \u001b[38;5;28;43mself\u001b[39;49m\u001b[38;5;241;43m.\u001b[39;49m\u001b[43m_next_data\u001b[49m\u001b[43m(\u001b[49m\u001b[43m)\u001b[49m\n\u001b[1;32m    632\u001b[0m \u001b[38;5;28mself\u001b[39m\u001b[38;5;241m.\u001b[39m_num_yielded \u001b[38;5;241m+\u001b[39m\u001b[38;5;241m=\u001b[39m \u001b[38;5;241m1\u001b[39m\n\u001b[1;32m    633\u001b[0m \u001b[38;5;28;01mif\u001b[39;00m \u001b[38;5;28mself\u001b[39m\u001b[38;5;241m.\u001b[39m_dataset_kind \u001b[38;5;241m==\u001b[39m _DatasetKind\u001b[38;5;241m.\u001b[39mIterable \u001b[38;5;129;01mand\u001b[39;00m \\\n\u001b[1;32m    634\u001b[0m         \u001b[38;5;28mself\u001b[39m\u001b[38;5;241m.\u001b[39m_IterableDataset_len_called \u001b[38;5;129;01mis\u001b[39;00m \u001b[38;5;129;01mnot\u001b[39;00m \u001b[38;5;28;01mNone\u001b[39;00m \u001b[38;5;129;01mand\u001b[39;00m \\\n\u001b[1;32m    635\u001b[0m         \u001b[38;5;28mself\u001b[39m\u001b[38;5;241m.\u001b[39m_num_yielded \u001b[38;5;241m>\u001b[39m \u001b[38;5;28mself\u001b[39m\u001b[38;5;241m.\u001b[39m_IterableDataset_len_called:\n",
      "File \u001b[0;32m~/SwissTextSDG/sdg_env/lib/python3.8/site-packages/torch/utils/data/dataloader.py:675\u001b[0m, in \u001b[0;36m_SingleProcessDataLoaderIter._next_data\u001b[0;34m(self)\u001b[0m\n\u001b[1;32m    673\u001b[0m \u001b[38;5;28;01mdef\u001b[39;00m \u001b[38;5;21m_next_data\u001b[39m(\u001b[38;5;28mself\u001b[39m):\n\u001b[1;32m    674\u001b[0m     index \u001b[38;5;241m=\u001b[39m \u001b[38;5;28mself\u001b[39m\u001b[38;5;241m.\u001b[39m_next_index()  \u001b[38;5;66;03m# may raise StopIteration\u001b[39;00m\n\u001b[0;32m--> 675\u001b[0m     data \u001b[38;5;241m=\u001b[39m \u001b[38;5;28;43mself\u001b[39;49m\u001b[38;5;241;43m.\u001b[39;49m\u001b[43m_dataset_fetcher\u001b[49m\u001b[38;5;241;43m.\u001b[39;49m\u001b[43mfetch\u001b[49m\u001b[43m(\u001b[49m\u001b[43mindex\u001b[49m\u001b[43m)\u001b[49m  \u001b[38;5;66;03m# may raise StopIteration\u001b[39;00m\n\u001b[1;32m    676\u001b[0m     \u001b[38;5;28;01mif\u001b[39;00m \u001b[38;5;28mself\u001b[39m\u001b[38;5;241m.\u001b[39m_pin_memory:\n\u001b[1;32m    677\u001b[0m         data \u001b[38;5;241m=\u001b[39m _utils\u001b[38;5;241m.\u001b[39mpin_memory\u001b[38;5;241m.\u001b[39mpin_memory(data, \u001b[38;5;28mself\u001b[39m\u001b[38;5;241m.\u001b[39m_pin_memory_device)\n",
      "File \u001b[0;32m~/SwissTextSDG/sdg_env/lib/python3.8/site-packages/torch/utils/data/_utils/fetch.py:54\u001b[0m, in \u001b[0;36m_MapDatasetFetcher.fetch\u001b[0;34m(self, possibly_batched_index)\u001b[0m\n\u001b[1;32m     52\u001b[0m \u001b[38;5;28;01melse\u001b[39;00m:\n\u001b[1;32m     53\u001b[0m     data \u001b[38;5;241m=\u001b[39m \u001b[38;5;28mself\u001b[39m\u001b[38;5;241m.\u001b[39mdataset[possibly_batched_index]\n\u001b[0;32m---> 54\u001b[0m \u001b[38;5;28;01mreturn\u001b[39;00m \u001b[38;5;28;43mself\u001b[39;49m\u001b[38;5;241;43m.\u001b[39;49m\u001b[43mcollate_fn\u001b[49m\u001b[43m(\u001b[49m\u001b[43mdata\u001b[49m\u001b[43m)\u001b[49m\n",
      "File \u001b[0;32m~/SwissTextSDG/sdg_env/lib/python3.8/site-packages/transformers/trainer_utils.py:808\u001b[0m, in \u001b[0;36mRemoveColumnsCollator.__call__\u001b[0;34m(self, features)\u001b[0m\n\u001b[1;32m    806\u001b[0m \u001b[38;5;28;01mdef\u001b[39;00m \u001b[38;5;21m__call__\u001b[39m(\u001b[38;5;28mself\u001b[39m, features: List[\u001b[38;5;28mdict\u001b[39m]):\n\u001b[1;32m    807\u001b[0m     features \u001b[38;5;241m=\u001b[39m [\u001b[38;5;28mself\u001b[39m\u001b[38;5;241m.\u001b[39m_remove_columns(feature) \u001b[38;5;28;01mfor\u001b[39;00m feature \u001b[38;5;129;01min\u001b[39;00m features]\n\u001b[0;32m--> 808\u001b[0m     \u001b[38;5;28;01mreturn\u001b[39;00m \u001b[38;5;28;43mself\u001b[39;49m\u001b[38;5;241;43m.\u001b[39;49m\u001b[43mdata_collator\u001b[49m\u001b[43m(\u001b[49m\u001b[43mfeatures\u001b[49m\u001b[43m)\u001b[49m\n",
      "File \u001b[0;32m~/SwissTextSDG/sdg_env/lib/python3.8/site-packages/transformers/data/data_collator.py:92\u001b[0m, in \u001b[0;36mdefault_data_collator\u001b[0;34m(features, return_tensors)\u001b[0m\n\u001b[1;32m     86\u001b[0m \u001b[38;5;66;03m# In this function we'll make the assumption that all `features` in the batch\u001b[39;00m\n\u001b[1;32m     87\u001b[0m \u001b[38;5;66;03m# have the same attributes.\u001b[39;00m\n\u001b[1;32m     88\u001b[0m \u001b[38;5;66;03m# So we will look at the first element as a proxy for what attributes exist\u001b[39;00m\n\u001b[1;32m     89\u001b[0m \u001b[38;5;66;03m# on the whole batch.\u001b[39;00m\n\u001b[1;32m     91\u001b[0m \u001b[38;5;28;01mif\u001b[39;00m return_tensors \u001b[38;5;241m==\u001b[39m \u001b[38;5;124m\"\u001b[39m\u001b[38;5;124mpt\u001b[39m\u001b[38;5;124m\"\u001b[39m:\n\u001b[0;32m---> 92\u001b[0m     \u001b[38;5;28;01mreturn\u001b[39;00m \u001b[43mtorch_default_data_collator\u001b[49m\u001b[43m(\u001b[49m\u001b[43mfeatures\u001b[49m\u001b[43m)\u001b[49m\n\u001b[1;32m     93\u001b[0m \u001b[38;5;28;01melif\u001b[39;00m return_tensors \u001b[38;5;241m==\u001b[39m \u001b[38;5;124m\"\u001b[39m\u001b[38;5;124mtf\u001b[39m\u001b[38;5;124m\"\u001b[39m:\n\u001b[1;32m     94\u001b[0m     \u001b[38;5;28;01mreturn\u001b[39;00m tf_default_data_collator(features)\n",
      "File \u001b[0;32m~/SwissTextSDG/sdg_env/lib/python3.8/site-packages/transformers/data/data_collator.py:131\u001b[0m, in \u001b[0;36mtorch_default_data_collator\u001b[0;34m(features)\u001b[0m\n\u001b[1;32m    128\u001b[0m \u001b[38;5;28;01mimport\u001b[39;00m \u001b[38;5;21;01mtorch\u001b[39;00m\n\u001b[1;32m    130\u001b[0m \u001b[38;5;28;01mif\u001b[39;00m \u001b[38;5;129;01mnot\u001b[39;00m \u001b[38;5;28misinstance\u001b[39m(features[\u001b[38;5;241m0\u001b[39m], Mapping):\n\u001b[0;32m--> 131\u001b[0m     features \u001b[38;5;241m=\u001b[39m [\u001b[38;5;28mvars\u001b[39m(f) \u001b[38;5;28;01mfor\u001b[39;00m f \u001b[38;5;129;01min\u001b[39;00m features]\n\u001b[1;32m    132\u001b[0m first \u001b[38;5;241m=\u001b[39m features[\u001b[38;5;241m0\u001b[39m]\n\u001b[1;32m    133\u001b[0m batch \u001b[38;5;241m=\u001b[39m {}\n",
      "File \u001b[0;32m~/SwissTextSDG/sdg_env/lib/python3.8/site-packages/transformers/data/data_collator.py:131\u001b[0m, in \u001b[0;36m<listcomp>\u001b[0;34m(.0)\u001b[0m\n\u001b[1;32m    128\u001b[0m \u001b[38;5;28;01mimport\u001b[39;00m \u001b[38;5;21;01mtorch\u001b[39;00m\n\u001b[1;32m    130\u001b[0m \u001b[38;5;28;01mif\u001b[39;00m \u001b[38;5;129;01mnot\u001b[39;00m \u001b[38;5;28misinstance\u001b[39m(features[\u001b[38;5;241m0\u001b[39m], Mapping):\n\u001b[0;32m--> 131\u001b[0m     features \u001b[38;5;241m=\u001b[39m [\u001b[38;5;28;43mvars\u001b[39;49m\u001b[43m(\u001b[49m\u001b[43mf\u001b[49m\u001b[43m)\u001b[49m \u001b[38;5;28;01mfor\u001b[39;00m f \u001b[38;5;129;01min\u001b[39;00m features]\n\u001b[1;32m    132\u001b[0m first \u001b[38;5;241m=\u001b[39m features[\u001b[38;5;241m0\u001b[39m]\n\u001b[1;32m    133\u001b[0m batch \u001b[38;5;241m=\u001b[39m {}\n",
      "\u001b[0;31mTypeError\u001b[0m: vars() argument must have __dict__ attribute"
     ]
    }
   ],
   "source": [
    "trainer = Trainer(\n",
    "    model=model,\n",
    "    args=training_args,\n",
    "    train_dataset=train_df,\n",
    "    # tokenizer=tokenizer,\n",
    "    eval_dataset=val_df,\n",
    "    compute_metrics=compute_metrics,\n",
    ")\n",
    "trainer.train()"
   ]
  },
  {
   "cell_type": "code",
   "execution_count": 24,
   "metadata": {},
   "outputs": [
    {
     "name": "stdout",
     "output_type": "stream",
     "text": [
      "[2024-04-28 22:25:00][WARNING]\tDetected kernel version 5.4.0, which is below the recommended minimum of 5.5.0; this can cause the process to hang. It is recommended to upgrade the kernel to the minimum version or higher.\n"
     ]
    },
    {
     "name": "stderr",
     "output_type": "stream",
     "text": [
      "`use_cache=True` is incompatible with gradient checkpointing. Setting `use_cache=False`...\n",
      "/mnt/home/veralarabernhard/SwissTextSDG/sdg_env/lib/python3.8/site-packages/torch/utils/checkpoint.py:464: UserWarning: torch.utils.checkpoint: the use_reentrant parameter should be passed explicitly. In version 2.4 we will raise an exception if use_reentrant is not passed. use_reentrant=False is recommended, but if you need to preserve the current default behavior, you can pass use_reentrant=True. Refer to docs for more details on the differences between the two variants.\n",
      "  warnings.warn(\n"
     ]
    },
    {
     "data": {
      "text/html": [
       "\n",
       "    <div>\n",
       "      \n",
       "      <progress value='710' max='710' style='width:300px; height:20px; vertical-align: middle;'></progress>\n",
       "      [710/710 1:28:30, Epoch 5/5]\n",
       "    </div>\n",
       "    <table border=\"1\" class=\"dataframe\">\n",
       "  <thead>\n",
       " <tr style=\"text-align: left;\">\n",
       "      <th>Epoch</th>\n",
       "      <th>Training Loss</th>\n",
       "      <th>Validation Loss</th>\n",
       "      <th>F1 Score</th>\n",
       "    </tr>\n",
       "  </thead>\n",
       "  <tbody>\n",
       "    <tr>\n",
       "      <td>1</td>\n",
       "      <td>No log</td>\n",
       "      <td>14.012147</td>\n",
       "      <td>0.034943</td>\n",
       "    </tr>\n",
       "    <tr>\n",
       "      <td>2</td>\n",
       "      <td>No log</td>\n",
       "      <td>13.865309</td>\n",
       "      <td>0.065652</td>\n",
       "    </tr>\n",
       "    <tr>\n",
       "      <td>3</td>\n",
       "      <td>No log</td>\n",
       "      <td>13.807353</td>\n",
       "      <td>0.078634</td>\n",
       "    </tr>\n",
       "    <tr>\n",
       "      <td>4</td>\n",
       "      <td>5.137700</td>\n",
       "      <td>13.708877</td>\n",
       "      <td>0.078634</td>\n",
       "    </tr>\n",
       "    <tr>\n",
       "      <td>5</td>\n",
       "      <td>5.137700</td>\n",
       "      <td>13.696450</td>\n",
       "      <td>0.078634</td>\n",
       "    </tr>\n",
       "  </tbody>\n",
       "</table><p>"
      ],
      "text/plain": [
       "<IPython.core.display.HTML object>"
      ]
     },
     "metadata": {},
     "output_type": "display_data"
    },
    {
     "name": "stderr",
     "output_type": "stream",
     "text": [
      "/mnt/home/veralarabernhard/SwissTextSDG/sdg_env/lib/python3.8/site-packages/torch/utils/checkpoint.py:464: UserWarning: torch.utils.checkpoint: the use_reentrant parameter should be passed explicitly. In version 2.4 we will raise an exception if use_reentrant is not passed. use_reentrant=False is recommended, but if you need to preserve the current default behavior, you can pass use_reentrant=True. Refer to docs for more details on the differences between the two variants.\n",
      "  warnings.warn(\n",
      "/mnt/home/veralarabernhard/SwissTextSDG/sdg_env/lib/python3.8/site-packages/torch/utils/checkpoint.py:464: UserWarning: torch.utils.checkpoint: the use_reentrant parameter should be passed explicitly. In version 2.4 we will raise an exception if use_reentrant is not passed. use_reentrant=False is recommended, but if you need to preserve the current default behavior, you can pass use_reentrant=True. Refer to docs for more details on the differences between the two variants.\n",
      "  warnings.warn(\n",
      "/mnt/home/veralarabernhard/SwissTextSDG/sdg_env/lib/python3.8/site-packages/peft/utils/other.py:581: UserWarning: Unable to fetch remote file due to the following error (ReadTimeoutError(\"HTTPSConnectionPool(host='huggingface.co', port=443): Read timed out. (read timeout=10)\"), '(Request ID: a19eaf47-1647-4fc3-8973-c8d71958d75b)') - silently ignoring the lookup for the file config.json in mistralai/Mistral-7B-v0.1.\n",
      "  warnings.warn(\n",
      "/mnt/home/veralarabernhard/SwissTextSDG/sdg_env/lib/python3.8/site-packages/peft/utils/save_and_load.py:154: UserWarning: Could not find a config file in mistralai/Mistral-7B-v0.1 - will assume that the vocabulary was not modified.\n",
      "  warnings.warn(\n",
      "/mnt/home/veralarabernhard/SwissTextSDG/sdg_env/lib/python3.8/site-packages/torch/utils/checkpoint.py:464: UserWarning: torch.utils.checkpoint: the use_reentrant parameter should be passed explicitly. In version 2.4 we will raise an exception if use_reentrant is not passed. use_reentrant=False is recommended, but if you need to preserve the current default behavior, you can pass use_reentrant=True. Refer to docs for more details on the differences between the two variants.\n",
      "  warnings.warn(\n",
      "/mnt/home/veralarabernhard/SwissTextSDG/sdg_env/lib/python3.8/site-packages/torch/utils/checkpoint.py:464: UserWarning: torch.utils.checkpoint: the use_reentrant parameter should be passed explicitly. In version 2.4 we will raise an exception if use_reentrant is not passed. use_reentrant=False is recommended, but if you need to preserve the current default behavior, you can pass use_reentrant=True. Refer to docs for more details on the differences between the two variants.\n",
      "  warnings.warn(\n"
     ]
    },
    {
     "data": {
      "text/plain": [
       "TrainOutput(global_step=710, training_loss=3.8956819990990867, metrics={'train_runtime': 5316.1555, 'train_samples_per_second': 0.134, 'train_steps_per_second': 0.134, 'total_flos': 8907788122521600.0, 'train_loss': 3.8956819990990867, 'epoch': 5.0})"
      ]
     },
     "execution_count": 24,
     "metadata": {},
     "output_type": "execute_result"
    }
   ],
   "source": [
    "trainer = Trainer(\n",
    "    model=model,\n",
    "    args=training_args,\n",
    "    train_dataset=train_ds_tokenized,\n",
    "    tokenizer=tokenizer,\n",
    "    eval_dataset=val_ds_tokenized,\n",
    "    compute_metrics=compute_metrics,\n",
    ")\n",
    "trainer.train()"
   ]
  },
  {
   "cell_type": "code",
   "execution_count": 15,
   "metadata": {},
   "outputs": [
    {
     "data": {
      "application/vnd.jupyter.widget-view+json": {
       "model_id": "6ab3b33b4acd40619324b00588cddc98",
       "version_major": 2,
       "version_minor": 0
      },
      "text/plain": [
       "Loading checkpoint shards:   0%|          | 0/2 [00:00<?, ?it/s]"
      ]
     },
     "metadata": {},
     "output_type": "display_data"
    },
    {
     "name": "stderr",
     "output_type": "stream",
     "text": [
      "Some weights of MistralForSequenceClassification were not initialized from the model checkpoint at mistralai/Mistral-7B-v0.1 and are newly initialized: ['score.weight']\n",
      "You should probably TRAIN this model on a down-stream task to be able to use it for predictions and inference.\n"
     ]
    }
   ],
   "source": [
    "model_checkpoint = 'mistralai/Mistral-7B-v0.1'\n",
    "model = MistralForSequenceClassification.from_pretrained(\n",
    "        model_checkpoint,\n",
    "        num_labels=18,\n",
    "        quantization_config=bnb_config,\n",
    "        device_map='auto',\n",
    ")"
   ]
  },
  {
   "cell_type": "code",
   "execution_count": 18,
   "metadata": {},
   "outputs": [
    {
     "name": "stderr",
     "output_type": "stream",
     "text": [
      "/mnt/home/veralarabernhard/SwissTextSDG/sdg_env/lib/python3.8/site-packages/peft/tuners/lora/bnb.py:325: UserWarning: Merge lora module to 4-bit linear may get different generations due to rounding errors.\n",
      "  warnings.warn(\n"
     ]
    }
   ],
   "source": [
    "adapter_checkpoint = \"/mnt/home/veralarabernhard/SwissTextSDG/checkpoints/checkpoint-710\"\n",
    "\n",
    "m = PeftModel.from_pretrained(model, adapter_checkpoint)\n",
    "m = m.merge_and_unload()\n",
    "tokenizer  = AutoTokenizer.from_pretrained(model_checkpoint)\n",
    "tokenizer.pad_token = tokenizer.eos_token\n",
    "tokenizer.add_eos_token = True\n",
    "tokenizer.add_bos_token, tokenizer.add_eos_token\n",
    "model.config.pad_token_id = tokenizer.pad_token_id"
   ]
  },
  {
   "cell_type": "code",
   "execution_count": 24,
   "metadata": {},
   "outputs": [
    {
     "name": "stderr",
     "output_type": "stream",
     "text": [
      "Asking to truncate to max_length but no maximum length is provided and the model has no predefined maximum length. Default to no truncation.\n"
     ]
    }
   ],
   "source": [
    "text = \"This is an abstract about water filtering\"\n",
    "inputs = tokenizer(text, padding=True, truncation=True, return_tensors=\"pt\")"
   ]
  },
  {
   "cell_type": "code",
   "execution_count": 27,
   "metadata": {},
   "outputs": [],
   "source": [
    "outputs = model(**inputs)\n"
   ]
  },
  {
   "cell_type": "code",
   "execution_count": 32,
   "metadata": {},
   "outputs": [
    {
     "name": "stdout",
     "output_type": "stream",
     "text": [
      "13\n"
     ]
    },
    {
     "ename": "",
     "evalue": "",
     "output_type": "error",
     "traceback": [
      "\u001b[1;31mThe Kernel crashed while executing code in the current cell or a previous cell. \n",
      "\u001b[1;31mPlease review the code in the cell(s) to identify a possible cause of the failure. \n",
      "\u001b[1;31mClick <a href='https://aka.ms/vscodeJupyterKernelCrash'>here</a> for more info. \n",
      "\u001b[1;31mView Jupyter <a href='command:jupyter.viewOutput'>log</a> for further details."
     ]
    }
   ],
   "source": [
    "predicted_probabilities = outputs.logits.softmax(dim=1)\n",
    "predicted_class = predicted_probabilities.argmax(dim=1).item()\n",
    "print(predicted_class)"
   ]
  }
 ],
 "metadata": {
  "kernelspec": {
   "display_name": "Python 3 (ipykernel)",
   "language": "python",
   "name": "python3"
  },
  "language_info": {
   "codemirror_mode": {
    "name": "ipython",
    "version": 3
   },
   "file_extension": ".py",
   "mimetype": "text/x-python",
   "name": "python",
   "nbconvert_exporter": "python",
   "pygments_lexer": "ipython3",
   "version": "3.10.12"
  }
 },
 "nbformat": 4,
 "nbformat_minor": 4
}
