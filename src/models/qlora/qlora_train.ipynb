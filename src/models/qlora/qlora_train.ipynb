{
 "cells": [
  {
   "cell_type": "markdown",
   "metadata": {},
   "source": [
    "# Train Qlora"
   ]
  },
  {
   "cell_type": "code",
   "execution_count": null,
   "metadata": {},
   "outputs": [],
   "source": [
    "# Set those token to clone repo and access huggingface\n",
    "GIT_TOKEN = ''\n",
    "HUGGINGFACE_TOKEN = ''\n",
    "\n",
    "repo = 'SwissTextSDG'\n",
    "!rm -r SwissTextSDG/\n",
    "!git clone https://{GIT_TOKEN}@github.com/vera-bernhard/{repo}\n"
   ]
  },
  {
   "cell_type": "code",
   "execution_count": null,
   "metadata": {},
   "outputs": [],
   "source": [
    "%cd /content/SwissTextSDG/\n",
    "!git checkout qlora"
   ]
  },
  {
   "cell_type": "code",
   "execution_count": null,
   "metadata": {},
   "outputs": [],
   "source": [
    "!pip install transformers\n",
    "!pip install accelerate\n",
    "!pip install peft\n",
    "!pip install datasets\n",
    "!pip install bitsandbytes\n",
    "!pip install swifter\n",
    "!pip install pytorch_transformers\n",
    "!pip install huggingface_hub\n",
    "\n",
    "from huggingface_hub import login\n",
    "login(token=HUGGINGFACE_TOKEN)"
   ]
  },
  {
   "cell_type": "code",
   "execution_count": null,
   "metadata": {},
   "outputs": [],
   "source": [
    "%cd /content/SwissTextSDG\n",
    "!chmod 755 src/models/qlora/run_qlora_training.py\n",
    "!python src/models/qlora/run_qlora_training.py --experiment_name qlora-mistral_swisstext_task1_train --model_name qlora-mistral --dataset swisstext_task1_train --save_model --save_config --train_frac 0.33\n"
   ]
  }
 ],
 "metadata": {
  "kernelspec": {
   "display_name": "swisstextsdg-L4kHif1T-py3.12",
   "language": "python",
   "name": "python3"
  },
  "language_info": {
   "codemirror_mode": {
    "name": "ipython",
    "version": 3
   },
   "file_extension": ".py",
   "mimetype": "text/x-python",
   "name": "python",
   "nbconvert_exporter": "python",
   "pygments_lexer": "ipython3",
   "version": "3.12.2"
  }
 },
 "nbformat": 4,
 "nbformat_minor": 2
}
