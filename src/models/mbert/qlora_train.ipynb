{
 "cells": [
  {
   "cell_type": "markdown",
   "metadata": {},
   "source": [
    "# Train Qlora"
   ]
  },
  {
   "cell_type": "code",
   "execution_count": null,
   "metadata": {},
   "outputs": [],
   "source": [
    "!pip install transformers\n",
    "!pip install accelerate\n",
    "!pip install peft\n",
    "!pip install datasets\n",
    "!pip install bitsandbytes\n",
    "\n",
    "from run_transformer_training import main\n",
    "\n",
    "args = {\n",
    "    'model': 'qlora-mistral',\n",
    "    'experiment_name': 'qlora-mistral_swisstext_task1_train',\n",
    "    'dataset' : 'swisstext_task1_train',\n",
    "    'save_model' : True,\n",
    "    'save_config' : True,\n",
    "    'train_frac' : 0.33,\n",
    "}\n",
    "\n",
    "main(args)"
   ]
  },
  {
   "cell_type": "code",
   "execution_count": null,
   "metadata": {},
   "outputs": [],
   "source": []
  }
 ],
 "metadata": {
  "language_info": {
   "name": "python"
  }
 },
 "nbformat": 4,
 "nbformat_minor": 2
}
