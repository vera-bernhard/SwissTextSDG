{
 "cells": [
  {
   "cell_type": "code",
   "execution_count": 30,
   "metadata": {},
   "outputs": [],
   "source": [
    "text = \"\"\"\n",
    "Non-relevant: If a text cannot be classified as an SDG goal, it should be regarded as non-relevant. Non-relevant texts should be given Class 0 (zero).\n",
    "\n",
    "No Poverty: End poverty in all its forms everywhere. This goal aims to eradicate extreme poverty, ensuring that all people have access to basic necessities such as food, shelter, and healthcare.\n",
    "\n",
    "Zero Hunger: End hunger, achieve food security and improved nutrition, and promote sustainable agriculture. This goal seeks to ensure that everyone has access to nutritious food year-round and that agricultural practices are sustainable.\n",
    "\n",
    "Good Health and Well-being: Ensure healthy lives and promote well-being for all ages. This goal aims to ensure access to healthcare services, promote mental health, and reduce the prevalence of diseases.\n",
    "\n",
    "Quality Education: Ensure inclusive and equitable quality education and promote lifelong learning opportunities for all. This goal focuses on providing access to quality education at all levels, including vocational training and literacy programs.\n",
    "\n",
    "Gender Equality: Achieve gender equality and empower all women and girls. This goal aims to eliminate discrimination and violence against women and girls, ensuring equal opportunities in education, employment, and participation in decision-making processes.\n",
    "\n",
    "Clean Water and Sanitation: Ensure availability and sustainable management of water and sanitation for all. This goal focuses on providing access to clean drinking water and adequate sanitation facilities, as well as promoting water conservation and sustainable water management practices.\n",
    "\n",
    "Affordable and Clean Energy: Ensure access to affordable, reliable, sustainable, and modern energy for all. This goal aims to expand access to clean energy sources such as solar and wind power while promoting energy efficiency and renewable energy technologies.\n",
    "\n",
    "Decent Work and Economic Growth: Promote sustained, inclusive, and sustainable economic growth, full and productive employment, and decent work for all. This goal focuses on creating opportunities for productive employment and entrepreneurship, as well as ensuring fair wages and safe working conditions.\n",
    "\n",
    "Industry, Innovation, and Infrastructure: Build resilient infrastructure, promote inclusive and sustainable industrialization, and foster innovation. This goal aims to develop reliable and sustainable infrastructure, encourage technological innovation, and support the growth of industries that are environmentally friendly and socially inclusive.\n",
    "\n",
    "Reduced Inequality: Reduce inequality within and among countries. This goal focuses on addressing income inequality, social exclusion, and discrimination, and promoting the social, economic, and political inclusion of all people.\n",
    "\n",
    "Sustainable Cities and Communities: Make cities and human settlements inclusive, safe, resilient, and sustainable. This goal aims to ensure access to basic services, promote sustainable urban planning and management, and improve the safety and resilience of cities and communities.\n",
    "\n",
    "Responsible Consumption and Production: Ensure sustainable consumption and production patterns. This goal focuses on promoting resource efficiency, reducing waste and pollution, and encouraging sustainable practices in consumption and production.\n",
    "\n",
    "Climate Action: Take urgent action to combat climate change and its impacts. This goal aims to mitigate climate change by reducing greenhouse gas emissions, promoting renewable energy, and enhancing resilience to climate-related disasters.\n",
    "\n",
    "Life Below Water: Conserve and sustainably use the oceans, seas, and marine resources for sustainable development. This goal focuses on protecting marine biodiversity, reducing marine pollution, and promoting sustainable fishing practices.\n",
    "\n",
    "Life on Land: Protect, restore, and promote sustainable use of terrestrial ecosystems, sustainably manage forests, combat desertification, and halt and reverse land degradation and halt biodiversity loss. This goal aims to conserve and restore ecosystems, promote sustainable land management practices, and protect biodiversity.\n",
    "\n",
    "Peace, Justice, and Strong Institutions: Promote peaceful and inclusive societies for sustainable development, provide access to justice for all, and build effective, accountable, and inclusive institutions at all levels. This goal focuses on reducing violence, promoting the rule of law, and ensuring access to justice and accountable governance.\n",
    "\n",
    "Partnerships for the Goals: Strengthen the means of implementation and revitalize the Global Partnership for Sustainable Development. This goal aims to mobilize resources, enhance policy coherence, and foster partnerships for sustainable development at the global, regional, and national levels.\n",
    "\"\"\"\n"
   ]
  },
  {
   "cell_type": "code",
   "execution_count": 31,
   "metadata": {},
   "outputs": [],
   "source": [
    "import pandas as pd\n",
    "\n",
    "lines = filter(None, text.strip().split('\\n'))\n",
    "data = []\n",
    "# Iterate through each non-empty line to extract goal and description\n",
    "for index, line in enumerate(lines, start=0):\n",
    "    data.append({'sdg': index, 'text': line.strip()})\n",
    "df = pd.DataFrame(data)\n",
    "\n",
    "df.to_csv('./sdg_classification_guidelines.csv')"
   ]
  },
  {
   "cell_type": "code",
   "execution_count": 32,
   "metadata": {},
   "outputs": [
    {
     "data": {
      "text/html": [
       "<div>\n",
       "<style scoped>\n",
       "    .dataframe tbody tr th:only-of-type {\n",
       "        vertical-align: middle;\n",
       "    }\n",
       "\n",
       "    .dataframe tbody tr th {\n",
       "        vertical-align: top;\n",
       "    }\n",
       "\n",
       "    .dataframe thead th {\n",
       "        text-align: right;\n",
       "    }\n",
       "</style>\n",
       "<table border=\"1\" class=\"dataframe\">\n",
       "  <thead>\n",
       "    <tr style=\"text-align: right;\">\n",
       "      <th></th>\n",
       "      <th>sdg</th>\n",
       "      <th>text</th>\n",
       "    </tr>\n",
       "  </thead>\n",
       "  <tbody>\n",
       "    <tr>\n",
       "      <th>0</th>\n",
       "      <td>0</td>\n",
       "      <td>Non-relevant: If a text cannot be classified a...</td>\n",
       "    </tr>\n",
       "    <tr>\n",
       "      <th>1</th>\n",
       "      <td>1</td>\n",
       "      <td>No Poverty: End poverty in all its forms every...</td>\n",
       "    </tr>\n",
       "    <tr>\n",
       "      <th>2</th>\n",
       "      <td>2</td>\n",
       "      <td>Zero Hunger: End hunger, achieve food security...</td>\n",
       "    </tr>\n",
       "    <tr>\n",
       "      <th>3</th>\n",
       "      <td>3</td>\n",
       "      <td>Good Health and Well-being: Ensure healthy liv...</td>\n",
       "    </tr>\n",
       "    <tr>\n",
       "      <th>4</th>\n",
       "      <td>4</td>\n",
       "      <td>Quality Education: Ensure inclusive and equita...</td>\n",
       "    </tr>\n",
       "  </tbody>\n",
       "</table>\n",
       "</div>"
      ],
      "text/plain": [
       "   sdg                                               text\n",
       "0    0  Non-relevant: If a text cannot be classified a...\n",
       "1    1  No Poverty: End poverty in all its forms every...\n",
       "2    2  Zero Hunger: End hunger, achieve food security...\n",
       "3    3  Good Health and Well-being: Ensure healthy liv...\n",
       "4    4  Quality Education: Ensure inclusive and equita..."
      ]
     },
     "execution_count": 32,
     "metadata": {},
     "output_type": "execute_result"
    }
   ],
   "source": [
    "df.head()"
   ]
  },
  {
   "cell_type": "code",
   "execution_count": null,
   "metadata": {},
   "outputs": [],
   "source": []
  },
  {
   "cell_type": "markdown",
   "metadata": {},
   "source": []
  }
 ],
 "metadata": {
  "kernelspec": {
   "display_name": "Python 3.12.2 ('.venv': poetry)",
   "language": "python",
   "name": "python3"
  },
  "language_info": {
   "codemirror_mode": {
    "name": "ipython",
    "version": 3
   },
   "file_extension": ".py",
   "mimetype": "text/x-python",
   "name": "python",
   "nbconvert_exporter": "python",
   "pygments_lexer": "ipython3",
   "version": "3.12.2"
  },
  "orig_nbformat": 4,
  "vscode": {
   "interpreter": {
    "hash": "f57643932862283a9314c2887f8e5b76ea242042d0c1b36ba48da971956aa624"
   }
  }
 },
 "nbformat": 4,
 "nbformat_minor": 2
}
