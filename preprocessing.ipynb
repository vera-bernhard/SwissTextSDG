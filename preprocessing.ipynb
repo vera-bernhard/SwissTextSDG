{
 "cells": [
  {
   "cell_type": "markdown",
   "metadata": {},
   "source": [
    "# Preprocessing"
   ]
  },
  {
   "cell_type": "code",
   "execution_count": 1,
   "metadata": {},
   "outputs": [
    {
     "data": {
      "text/html": [
       "<div>\n",
       "<style scoped>\n",
       "    .dataframe tbody tr th:only-of-type {\n",
       "        vertical-align: middle;\n",
       "    }\n",
       "\n",
       "    .dataframe tbody tr th {\n",
       "        vertical-align: top;\n",
       "    }\n",
       "\n",
       "    .dataframe thead th {\n",
       "        text-align: right;\n",
       "    }\n",
       "</style>\n",
       "<table border=\"1\" class=\"dataframe\">\n",
       "  <thead>\n",
       "    <tr style=\"text-align: right;\">\n",
       "      <th></th>\n",
       "      <th>ID</th>\n",
       "      <th>TITLE</th>\n",
       "      <th>ABSTRACT</th>\n",
       "      <th>URL</th>\n",
       "      <th>SDG</th>\n",
       "      <th>Label</th>\n",
       "    </tr>\n",
       "  </thead>\n",
       "  <tbody>\n",
       "    <tr>\n",
       "      <th>0</th>\n",
       "      <td>oai:www.zora.uzh.ch:126666</td>\n",
       "      <td>Identifying phrasemes via interlingual associa...</td>\n",
       "      <td>In corpus linguistics, statistical association...</td>\n",
       "      <td>https://www.zora.uzh.ch/id/eprint/126666</td>\n",
       "      <td>0</td>\n",
       "      <td>non-relevant</td>\n",
       "    </tr>\n",
       "    <tr>\n",
       "      <th>1</th>\n",
       "      <td>oai:www.zora.uzh.ch:106593</td>\n",
       "      <td>Synthesis of tripeptide derivatized cyclopenta...</td>\n",
       "      <td>We describe the syntheses of half-sandwich com...</td>\n",
       "      <td>https://www.zora.uzh.ch/id/eprint/106593</td>\n",
       "      <td>0</td>\n",
       "      <td>non-relevant</td>\n",
       "    </tr>\n",
       "    <tr>\n",
       "      <th>2</th>\n",
       "      <td>oai:www.zora.uzh.ch:203310</td>\n",
       "      <td>Intelligence test items varying in capacity de...</td>\n",
       "      <td>There is a strong relationship between fluid i...</td>\n",
       "      <td>https://www.zora.uzh.ch/id/eprint/203310</td>\n",
       "      <td>0</td>\n",
       "      <td>non-relevant</td>\n",
       "    </tr>\n",
       "    <tr>\n",
       "      <th>3</th>\n",
       "      <td>oai:www.zora.uzh.ch:145601</td>\n",
       "      <td>Copy number increases of transposable elements...</td>\n",
       "      <td>Evolutionary dynamics of structural genetic va...</td>\n",
       "      <td>https://www.zora.uzh.ch/id/eprint/145601</td>\n",
       "      <td>14</td>\n",
       "      <td>Life Below Water</td>\n",
       "    </tr>\n",
       "    <tr>\n",
       "      <th>4</th>\n",
       "      <td>oai:www.zora.uzh.ch:188559</td>\n",
       "      <td>Linguistics : An Interdisciplinary Journal of ...</td>\n",
       "      <td>At the heart of this special issue are partiti...</td>\n",
       "      <td>https://www.zora.uzh.ch/id/eprint/188559</td>\n",
       "      <td>0</td>\n",
       "      <td>non-relevant</td>\n",
       "    </tr>\n",
       "  </tbody>\n",
       "</table>\n",
       "</div>"
      ],
      "text/plain": [
       "                           ID  \\\n",
       "0  oai:www.zora.uzh.ch:126666   \n",
       "1  oai:www.zora.uzh.ch:106593   \n",
       "2  oai:www.zora.uzh.ch:203310   \n",
       "3  oai:www.zora.uzh.ch:145601   \n",
       "4  oai:www.zora.uzh.ch:188559   \n",
       "\n",
       "                                               TITLE  \\\n",
       "0  Identifying phrasemes via interlingual associa...   \n",
       "1  Synthesis of tripeptide derivatized cyclopenta...   \n",
       "2  Intelligence test items varying in capacity de...   \n",
       "3  Copy number increases of transposable elements...   \n",
       "4  Linguistics : An Interdisciplinary Journal of ...   \n",
       "\n",
       "                                            ABSTRACT  \\\n",
       "0  In corpus linguistics, statistical association...   \n",
       "1  We describe the syntheses of half-sandwich com...   \n",
       "2  There is a strong relationship between fluid i...   \n",
       "3  Evolutionary dynamics of structural genetic va...   \n",
       "4  At the heart of this special issue are partiti...   \n",
       "\n",
       "                                        URL  SDG             Label  \n",
       "0  https://www.zora.uzh.ch/id/eprint/126666    0      non-relevant  \n",
       "1  https://www.zora.uzh.ch/id/eprint/106593    0      non-relevant  \n",
       "2  https://www.zora.uzh.ch/id/eprint/203310    0      non-relevant  \n",
       "3  https://www.zora.uzh.ch/id/eprint/145601   14  Life Below Water  \n",
       "4  https://www.zora.uzh.ch/id/eprint/188559    0      non-relevant  "
      ]
     },
     "execution_count": 1,
     "metadata": {},
     "output_type": "execute_result"
    }
   ],
   "source": [
    "from helper import read_in_data, add_textual_label\n",
    "\n",
    "# Read in train data\n",
    "data_json = 'data/task1_train.jsonl'\n",
    "label_json = 'data/sdg_label_mapping.json'\n",
    "train_data = read_in_data(data_json)\n",
    "train_data = add_textual_label(label_json, train_data)\n",
    "train_data.head()"
   ]
  },
  {
   "cell_type": "markdown",
   "metadata": {},
   "source": [
    "Aurora does the following preprocessing\n",
    "* Filter out noise from publishing website --> our data is clean\n",
    "* Tokenizing + adding [CLS] and [SEP] token --> we should be able to reuse the tokenizer from huggginface\n",
    "* Truncate the abstracts to length model can deal with --> depends on the model we choose\n",
    "\n",
    "==> all of the steps not currently needed for our data"
   ]
  }
 ],
 "metadata": {
  "kernelspec": {
   "display_name": "Python 3",
   "language": "python",
   "name": "python3"
  },
  "language_info": {
   "codemirror_mode": {
    "name": "ipython",
    "version": 3
   },
   "file_extension": ".py",
   "mimetype": "text/x-python",
   "name": "python",
   "nbconvert_exporter": "python",
   "pygments_lexer": "ipython3",
   "version": "3.10.12"
  }
 },
 "nbformat": 4,
 "nbformat_minor": 2
}
