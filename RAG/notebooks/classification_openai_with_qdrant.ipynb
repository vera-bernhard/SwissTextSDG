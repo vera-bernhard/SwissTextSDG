{
 "cells": [
  {
   "cell_type": "code",
   "execution_count": 1,
   "metadata": {},
   "outputs": [],
   "source": [
    "from openai import OpenAI\n",
    "\n",
    "from sklearn.metrics import accuracy_score, f1_score\n",
    "import matplotlib.pyplot as plt\n",
    "import pandas as pd\n",
    "import re\n",
    "import json\n",
    "import os\n",
    "import sys\n",
    "import configparser\n",
    "\n",
    "from qdrant_client import models, QdrantClient\n",
    "from sentence_transformers import SentenceTransformer"
   ]
  },
  {
   "cell_type": "code",
   "execution_count": 2,
   "metadata": {},
   "outputs": [],
   "source": [
    "def retrieve_openai_api_key() -> str:\n",
    "    \"\"\"\n",
    "    function to parse the config file and retrieve OpenAI API key\n",
    "    \"\"\"\n",
    "\n",
    "    config = configparser.ConfigParser()\n",
    "    config.read('./../config.ini')\n",
    "    api_key = config['API']['OpenAI_key']\n",
    "\n",
    "    return api_key\n",
    "\n",
    "api_key = retrieve_openai_api_key()"
   ]
  },
  {
   "cell_type": "code",
   "execution_count": 23,
   "metadata": {},
   "outputs": [
    {
     "name": "stdout",
     "output_type": "stream",
     "text": [
      "sdg\n",
      "4     15\n",
      "6     15\n",
      "12    14\n",
      "10    14\n",
      "8     14\n",
      "5     14\n",
      "9     13\n",
      "1     13\n",
      "2     12\n",
      "13    12\n",
      "7     12\n",
      "11    11\n",
      "15    11\n",
      "16    11\n",
      "14    10\n",
      "3      9\n",
      "Name: count, dtype: int64\n"
     ]
    },
    {
     "name": "stderr",
     "output_type": "stream",
     "text": [
      "/var/folders/c_/d2jd7yn50y93c2sqyws6yswc0000gn/T/ipykernel_39467/4122444771.py:20: DeprecationWarning: DataFrameGroupBy.apply operated on the grouping columns. This behavior is deprecated, and in a future version of pandas the grouping columns will be excluded from the operation. Either pass `include_groups=False` to exclude the groupings or explicitly select the grouping columns after groupby to silence this warning.\n",
      "  data = df.groupby('sdg', group_keys=False).apply(lambda x: x.sample(min(len(x), 20), random_state=42))\n"
     ]
    },
    {
     "data": {
      "text/html": [
       "<div>\n",
       "<style scoped>\n",
       "    .dataframe tbody tr th:only-of-type {\n",
       "        vertical-align: middle;\n",
       "    }\n",
       "\n",
       "    .dataframe tbody tr th {\n",
       "        vertical-align: top;\n",
       "    }\n",
       "\n",
       "    .dataframe thead th {\n",
       "        text-align: right;\n",
       "    }\n",
       "</style>\n",
       "<table border=\"1\" class=\"dataframe\">\n",
       "  <thead>\n",
       "    <tr style=\"text-align: right;\">\n",
       "      <th></th>\n",
       "      <th>text</th>\n",
       "      <th>sdg</th>\n",
       "    </tr>\n",
       "  </thead>\n",
       "  <tbody>\n",
       "    <tr>\n",
       "      <th>8222</th>\n",
       "      <td>Efforts to align financial flows with climate ...</td>\n",
       "      <td>9</td>\n",
       "    </tr>\n",
       "    <tr>\n",
       "      <th>5573</th>\n",
       "      <td>However, as prices of natural resources and co...</td>\n",
       "      <td>12</td>\n",
       "    </tr>\n",
       "    <tr>\n",
       "      <th>10095</th>\n",
       "      <td>Education that occurs in conjunction with othe...</td>\n",
       "      <td>2</td>\n",
       "    </tr>\n",
       "    <tr>\n",
       "      <th>19938</th>\n",
       "      <td>The Fifth Malaysia Plan, implemented from 1986...</td>\n",
       "      <td>4</td>\n",
       "    </tr>\n",
       "    <tr>\n",
       "      <th>22056</th>\n",
       "      <td>The results and the related analyses may revea...</td>\n",
       "      <td>1</td>\n",
       "    </tr>\n",
       "  </tbody>\n",
       "</table>\n",
       "</div>"
      ],
      "text/plain": [
       "                                                    text  sdg\n",
       "8222   Efforts to align financial flows with climate ...    9\n",
       "5573   However, as prices of natural resources and co...   12\n",
       "10095  Education that occurs in conjunction with othe...    2\n",
       "19938  The Fifth Malaysia Plan, implemented from 1986...    4\n",
       "22056  The results and the related analyses may revea...    1"
      ]
     },
     "execution_count": 23,
     "metadata": {},
     "output_type": "execute_result"
    }
   ],
   "source": [
    "import pandas as pd\n",
    "from sklearn.model_selection import train_test_split\n",
    "\n",
    "# Read the data\n",
    "file_path = './../../data/osdg/osdg-community-data-v2022-10-01.csv'\n",
    "custom_separator = '\\\\t'\n",
    "custom_quotechar = '\"'\n",
    "df = pd.read_csv(file_path, sep=custom_separator, quotechar=custom_quotechar, engine='python')\n",
    "\n",
    "# Remove rogue quotations\n",
    "for col in df.columns:\n",
    "    if df[col].dtype == 'object':  # Check if column contains strings\n",
    "        df[col] = df[col].str.replace(r'\"', '')  # Remove leading and trailing quotes\n",
    "\n",
    "# Keep only necessary columns\n",
    "cols_to_keep = ['text', 'sdg']\n",
    "df = df[cols_to_keep]\n",
    "\n",
    "# Create a stratified sample of the data for context building\n",
    "data = df.groupby('sdg', group_keys=False).apply(lambda x: x.sample(min(len(x), 20), random_state=42))\n",
    "# reduce and shuffle\n",
    "data = data.sample(200, random_state=42) # TODO adjust sample size as needed\n",
    "\n",
    "print(data.sdg.value_counts())\n",
    "data.head()\n",
    "\n"
   ]
  },
  {
   "cell_type": "code",
   "execution_count": 24,
   "metadata": {},
   "outputs": [
    {
     "name": "stderr",
     "output_type": "stream",
     "text": [
      "/var/folders/c_/d2jd7yn50y93c2sqyws6yswc0000gn/T/ipykernel_39467/471735772.py:16: DeprecationWarning: `upload_records` is deprecated, use `upload_points` instead\n",
      "  qdrant.upload_records(\n"
     ]
    }
   ],
   "source": [
    "encoder = SentenceTransformer('all-MiniLM-L6-v2') # Model to create embeddings\n",
    "# create the vector database client\n",
    "qdrant = QdrantClient(\":memory:\") # Create in-memory Qdrant instance\n",
    "collection_name = 'sdgs'\n",
    "\n",
    "# Create collection to store the dataset\n",
    "qdrant.recreate_collection(\n",
    "    collection_name=\"sdgs\",\n",
    "    vectors_config=models.VectorParams(\n",
    "        size=encoder.get_sentence_embedding_dimension(), # Vector size is defined by used model\n",
    "        distance=models.Distance.COSINE\n",
    "    )\n",
    ")\n",
    "\n",
    "# vectorize\n",
    "qdrant.upload_records(\n",
    "    collection_name=\"sdgs\",\n",
    "    records=[\n",
    "        models.PointStruct(\n",
    "            id=idx,\n",
    "            vector=encoder.encode(doc[\"text\"]).tolist(),\n",
    "            payload=doc,\n",
    "        ) for idx, doc in enumerate(data.to_dict('records')) # data is the variable holding all the sdg data\n",
    "    ]\n",
    ")"
   ]
  },
  {
   "cell_type": "code",
   "execution_count": 25,
   "metadata": {},
   "outputs": [
    {
     "name": "stdout",
     "output_type": "stream",
     "text": [
      "{'text': 'European policies put more emphasis on water quality and ecosystems, the reduction of encroachments on rivers and the environment, and inclusive water governance. The Dutch tradition of engineered responses to risk is generally at odds with this policy direction. The Netherlands has displayed a relatively low level of ambition vis-a-vis the WFD, claiming that most of its waters are artificial systems and that restoration could only be limited.', 'sdg': 6} score: 0.4471528970795058\n",
      "{'text': 'The analysis considered averages, drought events would have greater impact. The south and east of England is already water stressed from a combination of low rainfall and high demand. But the wetter west and north could not be relied upon to make up any shortfall: the analysis suggested that these catchments would be most affected by climate change consequences.', 'sdg': 6} score: 0.36451484462645883\n",
      "{'text': 'In essence, practitioners will have more latitude to make judgements about what type of information is required in order to proceed with a development. The environmental code requires that the state and the provinces adopt an area vision. These measures outline the environmental values or goals to be achieved. For municipalities, this is the regional plan, for the water boards, the Water Regulation, and for the provinces, an area regulation.', 'sdg': 11} score: 0.3485207624914649\n"
     ]
    }
   ],
   "source": [
    "# random test prompt\n",
    "user_prompt = \"The quality of drinking water should be of outmost priority.\"\n",
    "\n",
    "# collect hits and set upper limit\n",
    "hits = qdrant.search(\n",
    "    collection_name=collection_name,\n",
    "    query_vector=encoder.encode(user_prompt).tolist(),\n",
    "    limit=3\n",
    ")\n",
    "for hit in hits:\n",
    "  print(hit.payload, \"score:\", hit.score)\n",
    "\n",
    "# define a variable to hold the search results\n",
    "search_results = [hit.payload for hit in hits]"
   ]
  },
  {
   "cell_type": "code",
   "execution_count": 12,
   "metadata": {},
   "outputs": [],
   "source": [
    "model_name = \"gpt-3.5-turbo\"\n",
    "\n",
    "client = OpenAI(\n",
    "    api_key = api_key\n",
    ")"
   ]
  },
  {
   "cell_type": "code",
   "execution_count": 26,
   "metadata": {},
   "outputs": [
    {
     "name": "stdout",
     "output_type": "stream",
     "text": [
      "Answering with RAG:\n",
      "ChatCompletionMessage(content='The most relevant SDG for those interested in water quality is SDG 6: Clean Water and Sanitation. This goal specifically focuses on ensuring availability and sustainable management of water and sanitation for all.', role='assistant', function_call=None, tool_calls=None)\n",
      "Answering without RAG\n",
      "ChatCompletionMessage(content='The most relevant UN Sustainable Development Goal (SDG) for those interested in water quality is SDG 6: Clean Water and Sanitation. It focuses on ensuring availability and sustainable management of water and sanitation for all.', role='assistant', function_call=None, tool_calls=None)\n"
     ]
    }
   ],
   "source": [
    "\n",
    "####################### with RAG #####################\n",
    "completion = client.chat.completions.create(\n",
    "    model=model_name,\n",
    "    messages=[\n",
    "        {\"role\": \"system\", \"content\": \"You are a UN specialist on sustainable development.\"},\n",
    "        {\"role\": \"system\", \"content\": \"Your goal is to assign a provided input to one of the UN SDGs. Assign to SDG 0 if non-relevant.\"},\n",
    "        {\"role\": \"user\", \"content\": \"Which SDG is most relevant for those interested in water quality?\"},\n",
    "        {\"role\": \"assistant\", \"content\": str(search_results)}\n",
    "    ]\n",
    ")\n",
    "print('Answering with RAG:')\n",
    "print(completion.choices[0].message)\n",
    "\n",
    "\n",
    "####################### without RAG #####################\n",
    "completion = client.chat.completions.create(\n",
    "    model=model_name,\n",
    "    messages=[\n",
    "        {\"role\": \"system\", \"content\": \"You are a UN specialist on sustainable development.\"},\n",
    "        {\"role\": \"system\", \"content\": \"Your goal is to assign a provided input to one of the UN SDGs. Assign to SDG 0 if non-relevant.\"},\n",
    "        {\"role\": \"user\", \"content\": \"Which SDG is most relevant for those interested in water quality?\"}\n",
    "    ]\n",
    ")\n",
    "print('Answering without RAG')\n",
    "print(completion.choices[0].message)"
   ]
  },
  {
   "cell_type": "markdown",
   "metadata": {},
   "source": [
    "# Classification"
   ]
  },
  {
   "cell_type": "code",
   "execution_count": 27,
   "metadata": {},
   "outputs": [
    {
     "name": "stdout",
     "output_type": "stream",
     "text": [
      "Subset info:\n",
      "<class 'pandas.core.frame.DataFrame'>\n",
      "Index: 129 entries, 145 to 182\n",
      "Data columns (total 7 columns):\n",
      " #   Column     Non-Null Count  Dtype \n",
      "---  ------     --------------  ----- \n",
      " 0   ID         129 non-null    object\n",
      " 1   TITLE      129 non-null    object\n",
      " 2   ABSTRACT   129 non-null    object\n",
      " 3   URL        129 non-null    object\n",
      " 4   SDG        129 non-null    int64 \n",
      " 5   Label      129 non-null    object\n",
      " 6   full_text  129 non-null    object\n",
      "dtypes: int64(1), object(6)\n",
      "memory usage: 8.1+ KB\n",
      "None\n",
      "\n",
      "Class distribution in the subset:\n",
      "SDG\n",
      "15    25\n",
      "3     14\n",
      "13    13\n",
      "16    10\n",
      "0     10\n",
      "10     9\n",
      "12     9\n",
      "8      8\n",
      "5      7\n",
      "7      5\n",
      "9      4\n",
      "2      4\n",
      "14     4\n",
      "1      2\n",
      "17     2\n",
      "11     1\n",
      "4      1\n",
      "6      1\n",
      "Name: count, dtype: int64\n"
     ]
    }
   ],
   "source": [
    "import sys\n",
    "sys.path.append('../../')\n",
    "from helper import read_in_data, add_textual_label\n",
    "from sklearn.model_selection import train_test_split\n",
    "import re\n",
    "\n",
    "\n",
    "data_json = './../../data/task1_train.jsonl'\n",
    "label_json = './../../data/sdg_label_mapping.json'\n",
    "df = read_in_data(data_json)\n",
    "df = add_textual_label(label_json, df)\n",
    "\n",
    "# add a column containing concatenated title and abstract -> full_text\n",
    "df['full_text'] = df.apply(lambda row: row['TITLE'] + ' ' + row['ABSTRACT'], axis=1)\n",
    "\n",
    "# Stratified sampling to create a subset with 20% of the original dataset\n",
    "df_subset, _ = train_test_split(df, test_size=0.7, stratify=df['SDG'], random_state=42)\n",
    "\n",
    "print(\"Subset info:\")\n",
    "print(df_subset.info())\n",
    "\n",
    "print(\"\\nClass distribution in the subset:\")\n",
    "print(df_subset['SDG'].value_counts())"
   ]
  },
  {
   "cell_type": "code",
   "execution_count": 28,
   "metadata": {},
   "outputs": [],
   "source": [
    "def generate_responses_with_rag(df, api_key):\n",
    "\n",
    "    # Initialize lists to store responses and gold standard classes\n",
    "    responses = []\n",
    "    gold_standard = []\n",
    "\n",
    "    # from the bias project! use sparsely!\n",
    "    api_key = api_key\n",
    "    client = OpenAI(api_key=api_key)\n",
    "    model_name = \"gpt-3.5-turbo\"\n",
    "    temperature = 0\n",
    "    max_tokens = 500\n",
    "\n",
    "    for index, row in df_subset.iterrows(): # use only a small subset for development\n",
    "        text_to_classify = row['full_text']\n",
    "\n",
    "        completion = client.chat.completions.create(\n",
    "            model=model_name,\n",
    "            messages=[\n",
    "                {\"role\": \"system\", \"content\": \"Classify by SDG (Sustainable Development Goal) number. Choose only the main SDG, one solution only. Respond only with the number of the goal: 'SDG < >'.\"},\n",
    "                {\"role\": \"system\", \"content\": \"Use 'SDG 0' if the text does not correspond to any of the SDGs and can be considered non-relevant.\"},           \n",
    "                {\"role\": \"user\", \"content\": text_to_classify}, # user input\n",
    "                {\"role\": \"assistant\", \"content\": str(search_results)} # provided context -> RAG element\n",
    "            ],\n",
    "            temperature=temperature,\n",
    "            max_tokens=max_tokens\n",
    "            )\n",
    "\n",
    "        # Extract response from completion\n",
    "        if completion.choices:\n",
    "            response = completion.choices[0].message\n",
    "            responses.append(response)\n",
    "        else:\n",
    "            response = \"\"\n",
    "            responses.append(response)\n",
    "\n",
    "        # Store gold standard class\n",
    "        gold_standard.append(row['SDG'])\n",
    "\n",
    "    # Create a DataFrame to store responses and gold standard classes\n",
    "    df = pd.DataFrame({'Response': responses, 'Gold_Standard': gold_standard})\n",
    "    # extract numeric values from responses and convert to integers for eval metrics\n",
    "    df['Response'] = df['Response'].astype(str).apply(lambda x: re.findall(r'SDG (\\d+)', x)[0]).astype(int)\n",
    "    \n",
    "    df.to_csv('./results_with_RAG.csv', index=False)\n",
    "    \n",
    "    return df"
   ]
  },
  {
   "cell_type": "code",
   "execution_count": 29,
   "metadata": {},
   "outputs": [],
   "source": [
    "def generate_responses_without_rag(df, api_key):\n",
    "\n",
    "    # Initialize lists to store responses and gold standard classes\n",
    "    responses = []\n",
    "    gold_standard = []\n",
    "\n",
    "    # from the bias project! use sparsely!\n",
    "    api_key = api_key\n",
    "    client = OpenAI(api_key=api_key)\n",
    "    model_name = \"gpt-3.5-turbo\"\n",
    "    temperature = 0\n",
    "    max_tokens = 500\n",
    "\n",
    "    for index, row in df_subset.iterrows(): # use only a small subset for development\n",
    "        text_to_classify = row['full_text']\n",
    "\n",
    "        completion = client.chat.completions.create(\n",
    "            model=model_name,\n",
    "            messages=[\n",
    "                {\"role\": \"system\", \"content\": \"Classify by SDG (Sustainable Development Goal) number. Choose only the main SDG, one solution only. Respond only with the number of the goal: 'SDG < >'.\"},\n",
    "                {\"role\": \"system\", \"content\": \"Use 'SDG 0' if the text does not correspond to any of the SDGs and can be considered non-relevant.\"},           \n",
    "                {\"role\": \"user\", \"content\": text_to_classify} # user input\n",
    "            ],\n",
    "            temperature=temperature,\n",
    "            max_tokens=max_tokens\n",
    "            )\n",
    "\n",
    "        # Extract response from completion\n",
    "        if completion.choices:\n",
    "            response = completion.choices[0].message\n",
    "            responses.append(response)\n",
    "        else:\n",
    "            response = \"\"\n",
    "            responses.append(response)\n",
    "\n",
    "        # Store gold standard class\n",
    "        gold_standard.append(row['SDG'])\n",
    "\n",
    "    # Create a DataFrame to store responses and gold standard classes\n",
    "    df = pd.DataFrame({'Response': responses, 'Gold_Standard': gold_standard})\n",
    "    # extract numeric values from responses and convert to integers for eval metrics\n",
    "    df['Response'] = df['Response'].astype(str).apply(lambda x: re.findall(r'SDG (\\d+)', x)[0]).astype(int)\n",
    "\n",
    "    df.to_csv('./results_without_RAG.csv', index=False)\n",
    "    \n",
    "    return df"
   ]
  },
  {
   "cell_type": "code",
   "execution_count": 37,
   "metadata": {},
   "outputs": [],
   "source": [
    "\n",
    "\n",
    "def compute_and_plot_metrics(df, output_file=None):\n",
    "\n",
    "    predicted = df['Response']\n",
    "    actual = df['Gold_Standard']\n",
    "\n",
    "    # calculate overall metrics\n",
    "    accuracy = accuracy_score(actual, predicted)\n",
    "    f1 = f1_score(actual, predicted, average='weighted')\n",
    "\n",
    "    # Calculate accuracy per class\n",
    "    accuracy_per_class = {}\n",
    "    for class_label in set(actual):\n",
    "        indices = actual == class_label\n",
    "        accuracy_per_class[class_label] = accuracy_score(actual[indices], predicted[indices])\n",
    "\n",
    "    # Calculate F1 score per class\n",
    "    f1_per_class = f1_score(actual, predicted, labels=list(set(actual)), average=None)\n",
    "\n",
    "    # Create DataFrame for metrics\n",
    "    metrics_df = pd.DataFrame({\n",
    "        'Class': list(accuracy_per_class.keys()),\n",
    "        'Accuracy': list(accuracy_per_class.values()),\n",
    "        'F1_Score': f1_per_class\n",
    "    })\n",
    "\n",
    "    # Save metrics to CSV file\n",
    "    if output_file:\n",
    "        metrics_df.to_csv(output_file, index=False)\n",
    "    \n",
    "    print('Overall accuracy: ', accuracy)\n",
    "    print('Overall F1-score: ', f1)\n",
    "    print(metrics_df)\n",
    "\n",
    "        \n",
    "\n",
    "    # Plot accuracy per class\n",
    "    plt.figure(figsize=(10, 5))\n",
    "    plt.bar(accuracy_per_class.keys(), accuracy_per_class.values(), color='skyblue')\n",
    "    plt.xlabel('Class')\n",
    "    plt.ylabel('Accuracy')\n",
    "    plt.title('Accuracy per Class')\n",
    "    plt.xticks(list(accuracy_per_class.keys()))\n",
    "    plt.show()\n",
    "\n",
    "    # Plot F1 score per class\n",
    "    plt.figure(figsize=(10, 5))\n",
    "    plt.bar(range(len(f1_per_class)), f1_per_class, color='lightgreen')\n",
    "    plt.xlabel('Class')\n",
    "    plt.ylabel('F1 Score')\n",
    "    plt.title('F1 Score per Class')\n",
    "    plt.xticks(range(len(f1_per_class)), list(set(actual)))\n",
    "    plt.show()\n"
   ]
  },
  {
   "cell_type": "code",
   "execution_count": 38,
   "metadata": {},
   "outputs": [
    {
     "name": "stdout",
     "output_type": "stream",
     "text": [
      "*************** RESULTS WITH RAG ***************\n",
      "Overall accuracy:  0.3798449612403101\n",
      "Overall F1-score:  0.4122128781077214\n",
      "    Class  Accuracy  F1_Score\n",
      "0       0  0.300000  0.115385\n",
      "1       1  0.500000  0.500000\n",
      "2       2  0.250000  0.400000\n",
      "3       3  0.357143  0.476190\n",
      "4       4  1.000000  0.666667\n",
      "5       5  0.857143  0.923077\n",
      "6       6  1.000000  0.083333\n",
      "7       7  0.400000  0.571429\n",
      "8       8  0.000000  0.000000\n",
      "9       9  0.000000  0.000000\n",
      "10     10  0.000000  0.000000\n",
      "11     11  1.000000  0.666667\n",
      "12     12  0.111111  0.200000\n",
      "13     13  0.538462  0.560000\n",
      "14     14  0.250000  0.400000\n",
      "15     15  0.400000  0.540541\n",
      "16     16  0.900000  0.782609\n",
      "17     17  0.000000  0.000000\n"
     ]
    },
    {
     "data": {
      "image/png": "[encoded data removed]",
      "text/plain": [
       "<Figure size 1000x500 with 1 Axes>"
      ]
     },
     "metadata": {},
     "output_type": "display_data"
    },
    {
     "data": {
      "image/png": "[encoded data removed]",
      "text/plain": [
       "<Figure size 1000x500 with 1 Axes>"
      ]
     },
     "metadata": {},
     "output_type": "display_data"
    }
   ],
   "source": [
    "print(15*'*', 'RESULTS WITH RAG', 15*'*')\n",
    "results_with_rag = generate_responses_with_rag(df=df_subset, api_key=api_key)\n",
    "compute_and_plot_metrics(df=results_with_rag, output_file='metrics_with_RAG.csv')"
   ]
  },
  {
   "cell_type": "code",
   "execution_count": 39,
   "metadata": {},
   "outputs": [
    {
     "name": "stdout",
     "output_type": "stream",
     "text": [
      "*************** RESULTS WITHOUT RAG ***************\n",
      "Overall accuracy:  0.6201550387596899\n",
      "Overall F1-score:  0.597421023242996\n",
      "    Class  Accuracy  F1_Score\n",
      "0       0  0.100000  0.142857\n",
      "1       1  1.000000  0.800000\n",
      "2       2  0.500000  0.666667\n",
      "3       3  0.928571  0.787879\n",
      "4       4  1.000000  0.500000\n",
      "5       5  1.000000  0.933333\n",
      "6       6  1.000000  0.666667\n",
      "7       7  0.400000  0.571429\n",
      "8       8  0.375000  0.400000\n",
      "9       9  0.000000  0.000000\n",
      "10     10  0.111111  0.166667\n",
      "11     11  1.000000  0.666667\n",
      "12     12  0.555556  0.714286\n",
      "13     13  0.923077  0.827586\n",
      "14     14  0.250000  0.400000\n",
      "15     15  0.800000  0.769231\n",
      "16     16  0.800000  0.640000\n",
      "17     17  0.000000  0.000000\n"
     ]
    },
    {
     "data": {
      "image/png": "[encoded data removed]",
      "text/plain": [
       "<Figure size 1000x500 with 1 Axes>"
      ]
     },
     "metadata": {},
     "output_type": "display_data"
    },
    {
     "data": {
      "image/png": "[encoded data removed]",
      "text/plain": [
       "<Figure size 1000x500 with 1 Axes>"
      ]
     },
     "metadata": {},
     "output_type": "display_data"
    }
   ],
   "source": [
    "print(15*'*', 'RESULTS WITHOUT RAG', 15*'*')\n",
    "results_without_rag = generate_responses_without_rag(df=df_subset, api_key=api_key)\n",
    "compute_and_plot_metrics(df=results_without_rag, output_file='metrics_without_RAG.csv')"
   ]
  },
  {
   "cell_type": "code",
   "execution_count": null,
   "metadata": {},
   "outputs": [],
   "source": []
  }
 ],
 "metadata": {
  "kernelspec": {
   "display_name": "Python 3.12.2 ('.venv': poetry)",
   "language": "python",
   "name": "python3"
  },
  "language_info": {
   "codemirror_mode": {
    "name": "ipython",
    "version": 3
   },
   "file_extension": ".py",
   "mimetype": "text/x-python",
   "name": "python",
   "nbconvert_exporter": "python",
   "pygments_lexer": "ipython3",
   "version": "3.12.2"
  },
  "orig_nbformat": 4,
  "vscode": {
   "interpreter": {
    "hash": "f57643932862283a9314c2887f8e5b76ea242042d0c1b36ba48da971956aa624"
   }
  }
 },
 "nbformat": 4,
 "nbformat_minor": 2
}
